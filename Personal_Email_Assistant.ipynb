{
  "nbformat": 4,
  "nbformat_minor": 0,
  "metadata": {
    "colab": {
      "provenance": [],
      "authorship_tag": "ABX9TyNvkykvO5j9nXZezybdFd4e",
      "include_colab_link": true
    },
    "kernelspec": {
      "name": "python3",
      "display_name": "Python 3"
    },
    "language_info": {
      "name": "python"
    }
  },
  "cells": [
    {
      "cell_type": "markdown",
      "metadata": {
        "id": "view-in-github",
        "colab_type": "text"
      },
      "source": [
        "<a href=\"https://colab.research.google.com/github/Series-Parallel/Deo-Pathak-wasserstoff-AiInternTask/blob/main/Personal_Email_Assistant.ipynb\" target=\"_parent\"><img src=\"https://colab.research.google.com/assets/colab-badge.svg\" alt=\"Open In Colab\"/></a>"
      ]
    },
    {
      "cell_type": "code",
      "execution_count": 1,
      "metadata": {
        "id": "0zGyZUJ4wEtN"
      },
      "outputs": [],
      "source": [
        "import pandas as pd\n",
        "import numpy as np"
      ]
    },
    {
      "cell_type": "code",
      "source": [
        "import requests\n",
        "from io import StringIO"
      ],
      "metadata": {
        "id": "PLUH_w2HupfD"
      },
      "execution_count": 2,
      "outputs": []
    },
    {
      "cell_type": "code",
      "source": [
        "# ngrok chaning url\n",
        "BASE_SERVER_URL = \"https://ac3a-103-240-207-60.ngrok-free.app\""
      ],
      "metadata": {
        "id": "B-BBUF1E989w"
      },
      "execution_count": 3,
      "outputs": []
    },
    {
      "cell_type": "code",
      "source": [
        "url = f\"{BASE_SERVER_URL}/emails\""
      ],
      "metadata": {
        "id": "MEXzFdv_uyzW"
      },
      "execution_count": 4,
      "outputs": []
    },
    {
      "cell_type": "code",
      "source": [
        "response = requests.get(url)\n",
        "data = pd.read_csv(StringIO(response.text))"
      ],
      "metadata": {
        "id": "6TOnyDpDu8SZ"
      },
      "execution_count": 5,
      "outputs": []
    },
    {
      "cell_type": "code",
      "source": [
        "data.head()"
      ],
      "metadata": {
        "colab": {
          "base_uri": "https://localhost:8080/",
          "height": 310
        },
        "id": "u8A3RGd_u9rA",
        "outputId": "f0a6ec84-c5dd-410e-892b-24c808a20198"
      },
      "execution_count": 6,
      "outputs": [
        {
          "output_type": "execute_result",
          "data": {
            "text/plain": [
              "     id        message_id                                            subject  \\\n",
              "0  1387  19611fbe67108ec1                                         No Subject   \n",
              "1  1386  1961201429fdcf52                                         No Subject   \n",
              "2   991  196115d9331bcbb0                                         No Subject   \n",
              "3   990  196117975eef36ad            Get Unlimited Prep for Your MBA Journey   \n",
              "4   699  1960e8c5bb48c839  You’re Using ChatGPT Wrong! Here’s How to Be A...   \n",
              "\n",
              "                                    sender  \\\n",
              "0                               No Subject   \n",
              "1                               No Subject   \n",
              "2                               No Subject   \n",
              "3  Manhattan Prep <info@manhattanprep.com>   \n",
              "4              Medium <noreply@medium.com>   \n",
              "\n",
              "                                                body  \\\n",
              "0  Just testing if my function is working or not,...   \n",
              "1  Hi,\\n\\nYour meeting has been confirmed for 202...   \n",
              "2           This is AI sending u email by itself :P.   \n",
              "3  http://cloud.e-mail.manhattanprep.com/unsubscr...   \n",
              "4  Stories for Pathakdeo\\r\\n@pathakdeo24 (https:/...   \n",
              "\n",
              "                    timestamp  \n",
              "0  2025-04-08 02:33:39.631405  \n",
              "1  2025-04-08 02:33:39.151274  \n",
              "2  2025-04-08 00:18:49.728056  \n",
              "3  2025-04-08 00:18:49.204786  \n",
              "4  2025-04-07 23:07:37.358909  "
            ],
            "text/html": [
              "\n",
              "  <div id=\"df-75a9c9fe-a46c-4add-8a5a-24f3fb5104d1\" class=\"colab-df-container\">\n",
              "    <div>\n",
              "<style scoped>\n",
              "    .dataframe tbody tr th:only-of-type {\n",
              "        vertical-align: middle;\n",
              "    }\n",
              "\n",
              "    .dataframe tbody tr th {\n",
              "        vertical-align: top;\n",
              "    }\n",
              "\n",
              "    .dataframe thead th {\n",
              "        text-align: right;\n",
              "    }\n",
              "</style>\n",
              "<table border=\"1\" class=\"dataframe\">\n",
              "  <thead>\n",
              "    <tr style=\"text-align: right;\">\n",
              "      <th></th>\n",
              "      <th>id</th>\n",
              "      <th>message_id</th>\n",
              "      <th>subject</th>\n",
              "      <th>sender</th>\n",
              "      <th>body</th>\n",
              "      <th>timestamp</th>\n",
              "    </tr>\n",
              "  </thead>\n",
              "  <tbody>\n",
              "    <tr>\n",
              "      <th>0</th>\n",
              "      <td>1387</td>\n",
              "      <td>19611fbe67108ec1</td>\n",
              "      <td>No Subject</td>\n",
              "      <td>No Subject</td>\n",
              "      <td>Just testing if my function is working or not,...</td>\n",
              "      <td>2025-04-08 02:33:39.631405</td>\n",
              "    </tr>\n",
              "    <tr>\n",
              "      <th>1</th>\n",
              "      <td>1386</td>\n",
              "      <td>1961201429fdcf52</td>\n",
              "      <td>No Subject</td>\n",
              "      <td>No Subject</td>\n",
              "      <td>Hi,\\n\\nYour meeting has been confirmed for 202...</td>\n",
              "      <td>2025-04-08 02:33:39.151274</td>\n",
              "    </tr>\n",
              "    <tr>\n",
              "      <th>2</th>\n",
              "      <td>991</td>\n",
              "      <td>196115d9331bcbb0</td>\n",
              "      <td>No Subject</td>\n",
              "      <td>No Subject</td>\n",
              "      <td>This is AI sending u email by itself :P.</td>\n",
              "      <td>2025-04-08 00:18:49.728056</td>\n",
              "    </tr>\n",
              "    <tr>\n",
              "      <th>3</th>\n",
              "      <td>990</td>\n",
              "      <td>196117975eef36ad</td>\n",
              "      <td>Get Unlimited Prep for Your MBA Journey</td>\n",
              "      <td>Manhattan Prep &lt;info@manhattanprep.com&gt;</td>\n",
              "      <td>http://cloud.e-mail.manhattanprep.com/unsubscr...</td>\n",
              "      <td>2025-04-08 00:18:49.204786</td>\n",
              "    </tr>\n",
              "    <tr>\n",
              "      <th>4</th>\n",
              "      <td>699</td>\n",
              "      <td>1960e8c5bb48c839</td>\n",
              "      <td>You’re Using ChatGPT Wrong! Here’s How to Be A...</td>\n",
              "      <td>Medium &lt;noreply@medium.com&gt;</td>\n",
              "      <td>Stories for Pathakdeo\\r\\n@pathakdeo24 (https:/...</td>\n",
              "      <td>2025-04-07 23:07:37.358909</td>\n",
              "    </tr>\n",
              "  </tbody>\n",
              "</table>\n",
              "</div>\n",
              "    <div class=\"colab-df-buttons\">\n",
              "\n",
              "  <div class=\"colab-df-container\">\n",
              "    <button class=\"colab-df-convert\" onclick=\"convertToInteractive('df-75a9c9fe-a46c-4add-8a5a-24f3fb5104d1')\"\n",
              "            title=\"Convert this dataframe to an interactive table.\"\n",
              "            style=\"display:none;\">\n",
              "\n",
              "  <svg xmlns=\"http://www.w3.org/2000/svg\" height=\"24px\" viewBox=\"0 -960 960 960\">\n",
              "    <path d=\"M120-120v-720h720v720H120Zm60-500h600v-160H180v160Zm220 220h160v-160H400v160Zm0 220h160v-160H400v160ZM180-400h160v-160H180v160Zm440 0h160v-160H620v160ZM180-180h160v-160H180v160Zm440 0h160v-160H620v160Z\"/>\n",
              "  </svg>\n",
              "    </button>\n",
              "\n",
              "  <style>\n",
              "    .colab-df-container {\n",
              "      display:flex;\n",
              "      gap: 12px;\n",
              "    }\n",
              "\n",
              "    .colab-df-convert {\n",
              "      background-color: #E8F0FE;\n",
              "      border: none;\n",
              "      border-radius: 50%;\n",
              "      cursor: pointer;\n",
              "      display: none;\n",
              "      fill: #1967D2;\n",
              "      height: 32px;\n",
              "      padding: 0 0 0 0;\n",
              "      width: 32px;\n",
              "    }\n",
              "\n",
              "    .colab-df-convert:hover {\n",
              "      background-color: #E2EBFA;\n",
              "      box-shadow: 0px 1px 2px rgba(60, 64, 67, 0.3), 0px 1px 3px 1px rgba(60, 64, 67, 0.15);\n",
              "      fill: #174EA6;\n",
              "    }\n",
              "\n",
              "    .colab-df-buttons div {\n",
              "      margin-bottom: 4px;\n",
              "    }\n",
              "\n",
              "    [theme=dark] .colab-df-convert {\n",
              "      background-color: #3B4455;\n",
              "      fill: #D2E3FC;\n",
              "    }\n",
              "\n",
              "    [theme=dark] .colab-df-convert:hover {\n",
              "      background-color: #434B5C;\n",
              "      box-shadow: 0px 1px 3px 1px rgba(0, 0, 0, 0.15);\n",
              "      filter: drop-shadow(0px 1px 2px rgba(0, 0, 0, 0.3));\n",
              "      fill: #FFFFFF;\n",
              "    }\n",
              "  </style>\n",
              "\n",
              "    <script>\n",
              "      const buttonEl =\n",
              "        document.querySelector('#df-75a9c9fe-a46c-4add-8a5a-24f3fb5104d1 button.colab-df-convert');\n",
              "      buttonEl.style.display =\n",
              "        google.colab.kernel.accessAllowed ? 'block' : 'none';\n",
              "\n",
              "      async function convertToInteractive(key) {\n",
              "        const element = document.querySelector('#df-75a9c9fe-a46c-4add-8a5a-24f3fb5104d1');\n",
              "        const dataTable =\n",
              "          await google.colab.kernel.invokeFunction('convertToInteractive',\n",
              "                                                    [key], {});\n",
              "        if (!dataTable) return;\n",
              "\n",
              "        const docLinkHtml = 'Like what you see? Visit the ' +\n",
              "          '<a target=\"_blank\" href=https://colab.research.google.com/notebooks/data_table.ipynb>data table notebook</a>'\n",
              "          + ' to learn more about interactive tables.';\n",
              "        element.innerHTML = '';\n",
              "        dataTable['output_type'] = 'display_data';\n",
              "        await google.colab.output.renderOutput(dataTable, element);\n",
              "        const docLink = document.createElement('div');\n",
              "        docLink.innerHTML = docLinkHtml;\n",
              "        element.appendChild(docLink);\n",
              "      }\n",
              "    </script>\n",
              "  </div>\n",
              "\n",
              "\n",
              "<div id=\"df-2d021c67-60ab-4a3e-a70f-44dcb8c3ad22\">\n",
              "  <button class=\"colab-df-quickchart\" onclick=\"quickchart('df-2d021c67-60ab-4a3e-a70f-44dcb8c3ad22')\"\n",
              "            title=\"Suggest charts\"\n",
              "            style=\"display:none;\">\n",
              "\n",
              "<svg xmlns=\"http://www.w3.org/2000/svg\" height=\"24px\"viewBox=\"0 0 24 24\"\n",
              "     width=\"24px\">\n",
              "    <g>\n",
              "        <path d=\"M19 3H5c-1.1 0-2 .9-2 2v14c0 1.1.9 2 2 2h14c1.1 0 2-.9 2-2V5c0-1.1-.9-2-2-2zM9 17H7v-7h2v7zm4 0h-2V7h2v10zm4 0h-2v-4h2v4z\"/>\n",
              "    </g>\n",
              "</svg>\n",
              "  </button>\n",
              "\n",
              "<style>\n",
              "  .colab-df-quickchart {\n",
              "      --bg-color: #E8F0FE;\n",
              "      --fill-color: #1967D2;\n",
              "      --hover-bg-color: #E2EBFA;\n",
              "      --hover-fill-color: #174EA6;\n",
              "      --disabled-fill-color: #AAA;\n",
              "      --disabled-bg-color: #DDD;\n",
              "  }\n",
              "\n",
              "  [theme=dark] .colab-df-quickchart {\n",
              "      --bg-color: #3B4455;\n",
              "      --fill-color: #D2E3FC;\n",
              "      --hover-bg-color: #434B5C;\n",
              "      --hover-fill-color: #FFFFFF;\n",
              "      --disabled-bg-color: #3B4455;\n",
              "      --disabled-fill-color: #666;\n",
              "  }\n",
              "\n",
              "  .colab-df-quickchart {\n",
              "    background-color: var(--bg-color);\n",
              "    border: none;\n",
              "    border-radius: 50%;\n",
              "    cursor: pointer;\n",
              "    display: none;\n",
              "    fill: var(--fill-color);\n",
              "    height: 32px;\n",
              "    padding: 0;\n",
              "    width: 32px;\n",
              "  }\n",
              "\n",
              "  .colab-df-quickchart:hover {\n",
              "    background-color: var(--hover-bg-color);\n",
              "    box-shadow: 0 1px 2px rgba(60, 64, 67, 0.3), 0 1px 3px 1px rgba(60, 64, 67, 0.15);\n",
              "    fill: var(--button-hover-fill-color);\n",
              "  }\n",
              "\n",
              "  .colab-df-quickchart-complete:disabled,\n",
              "  .colab-df-quickchart-complete:disabled:hover {\n",
              "    background-color: var(--disabled-bg-color);\n",
              "    fill: var(--disabled-fill-color);\n",
              "    box-shadow: none;\n",
              "  }\n",
              "\n",
              "  .colab-df-spinner {\n",
              "    border: 2px solid var(--fill-color);\n",
              "    border-color: transparent;\n",
              "    border-bottom-color: var(--fill-color);\n",
              "    animation:\n",
              "      spin 1s steps(1) infinite;\n",
              "  }\n",
              "\n",
              "  @keyframes spin {\n",
              "    0% {\n",
              "      border-color: transparent;\n",
              "      border-bottom-color: var(--fill-color);\n",
              "      border-left-color: var(--fill-color);\n",
              "    }\n",
              "    20% {\n",
              "      border-color: transparent;\n",
              "      border-left-color: var(--fill-color);\n",
              "      border-top-color: var(--fill-color);\n",
              "    }\n",
              "    30% {\n",
              "      border-color: transparent;\n",
              "      border-left-color: var(--fill-color);\n",
              "      border-top-color: var(--fill-color);\n",
              "      border-right-color: var(--fill-color);\n",
              "    }\n",
              "    40% {\n",
              "      border-color: transparent;\n",
              "      border-right-color: var(--fill-color);\n",
              "      border-top-color: var(--fill-color);\n",
              "    }\n",
              "    60% {\n",
              "      border-color: transparent;\n",
              "      border-right-color: var(--fill-color);\n",
              "    }\n",
              "    80% {\n",
              "      border-color: transparent;\n",
              "      border-right-color: var(--fill-color);\n",
              "      border-bottom-color: var(--fill-color);\n",
              "    }\n",
              "    90% {\n",
              "      border-color: transparent;\n",
              "      border-bottom-color: var(--fill-color);\n",
              "    }\n",
              "  }\n",
              "</style>\n",
              "\n",
              "  <script>\n",
              "    async function quickchart(key) {\n",
              "      const quickchartButtonEl =\n",
              "        document.querySelector('#' + key + ' button');\n",
              "      quickchartButtonEl.disabled = true;  // To prevent multiple clicks.\n",
              "      quickchartButtonEl.classList.add('colab-df-spinner');\n",
              "      try {\n",
              "        const charts = await google.colab.kernel.invokeFunction(\n",
              "            'suggestCharts', [key], {});\n",
              "      } catch (error) {\n",
              "        console.error('Error during call to suggestCharts:', error);\n",
              "      }\n",
              "      quickchartButtonEl.classList.remove('colab-df-spinner');\n",
              "      quickchartButtonEl.classList.add('colab-df-quickchart-complete');\n",
              "    }\n",
              "    (() => {\n",
              "      let quickchartButtonEl =\n",
              "        document.querySelector('#df-2d021c67-60ab-4a3e-a70f-44dcb8c3ad22 button');\n",
              "      quickchartButtonEl.style.display =\n",
              "        google.colab.kernel.accessAllowed ? 'block' : 'none';\n",
              "    })();\n",
              "  </script>\n",
              "</div>\n",
              "\n",
              "    </div>\n",
              "  </div>\n"
            ],
            "application/vnd.google.colaboratory.intrinsic+json": {
              "type": "dataframe",
              "variable_name": "data",
              "summary": "{\n  \"name\": \"data\",\n  \"rows\": 116,\n  \"fields\": [\n    {\n      \"column\": \"id\",\n      \"properties\": {\n        \"dtype\": \"number\",\n        \"std\": 257,\n        \"min\": 1,\n        \"max\": 1387,\n        \"num_unique_values\": 116,\n        \"samples\": [\n          33,\n          699,\n          74\n        ],\n        \"semantic_type\": \"\",\n        \"description\": \"\"\n      }\n    },\n    {\n      \"column\": \"message_id\",\n      \"properties\": {\n        \"dtype\": \"string\",\n        \"num_unique_values\": 116,\n        \"samples\": [\n          \"1951a04abf29a8cf\",\n          \"1960e8c5bb48c839\",\n          \"193401254e00d10b\"\n        ],\n        \"semantic_type\": \"\",\n        \"description\": \"\"\n      }\n    },\n    {\n      \"column\": \"subject\",\n      \"properties\": {\n        \"dtype\": \"string\",\n        \"num_unique_values\": 80,\n        \"samples\": [\n          \"Take a Free GRE for MBA Trial Class\",\n          \"No Subject\",\n          \"Last chance! 30% off GRE & GMAT Prep for Magoosh's Great Indian Festival Sale\"\n        ],\n        \"semantic_type\": \"\",\n        \"description\": \"\"\n      }\n    },\n    {\n      \"column\": \"sender\",\n      \"properties\": {\n        \"dtype\": \"category\",\n        \"num_unique_values\": 27,\n        \"samples\": [\n          \"Slack <no-replyQ6l8i-YeiuRh@slack.com>\",\n          \"Kaplan Test Prep <kaplantestprep@mail.kaptest.com>\",\n          \"Slack <no-reply@slack.com>\"\n        ],\n        \"semantic_type\": \"\",\n        \"description\": \"\"\n      }\n    },\n    {\n      \"column\": \"body\",\n      \"properties\": {\n        \"dtype\": \"string\",\n        \"num_unique_values\": 107,\n        \"samples\": [\n          \"Facebookkyliejenner,katherinelangfordand others posted something new.Catch up onInstagramkyliejenner,katherinelangfordand others posted something new.Open\\u00a0Instagram1You have 1 notification you may not have seen.\\u00a9 Instagram. Meta Platforms, Inc., 1601 Willow Road, Menlo Park, CA 94025This message was sent topathakdeo24@gmail.comand intended for prime_time_draven. If you don't want to receive these emails from Instagram in the future, pleaseunsubscribe.\",\n          \"This is the message body\",\n          \"Stories for Pathakdeo\\r\\n@pathakdeo24 (https://medium.com/@pathakdeo24?source=email-8864d0fe2302-1744000523644-digest.welcome-------------------------f3737247_fabd_4bd8_bbf8_650e3d2b7603)\\r\\n\\u00b7Become a member (https://medium.com/plans?source=email-8864d0fe2302-1744000523644-digest.welcome-------------------------f3737247_fabd_4bd8_bbf8_650e3d2b7603)\\r\\n\\r\\nDaily recommendations, crafted just for you\\r\\n\\r\\nEach day, the Daily Digest is sent to your inbox with stories selected just for you. The best way to help us find great stories for you is to read, follow, and engage with the stories you love - we'll take care of the rest!\\r\\n\\r\\nToday's highlights\\r\\n\\r\\nThe PyCoach (https://medium.com/@frank-andrade?source=email-8864d0fe2302-1744000523644-digest.welcome-76436a11a2b0-886a50dabc54----0-102------------------f3737247_fabd_4bd8_bbf8_650e3d2b7603-1)\\r\\ninArtificial Corner (https://medium.com/artificial-corner?source=email-8864d0fe2302-1744000523644-digest.welcome-76436a11a2b0-886a50dabc54----0-102------------------f3737247_fabd_4bd8_bbf8_650e3d2b7603-1)\\r\\n\\r\\nYou're Using ChatGPT Wrong! Here's How to Be Ahead of 99% of ChatGPT Users\\r\\nMaster ChatGPT by learning prompt engineering.\\r\\n\\r\\n7 min read\\r\\n40K\\r\\n1.5K\\r\\n\\r\\nJyoti Dabass, Ph.D. (https://medium.com/@jyotidabass?source=email-8864d0fe2302-1744000523644-digest.welcome-78073def27b8-b11334e4cdf7----1-109------------------f3737247_fabd_4bd8_bbf8_650e3d2b7603-1)\\r\\ninPython in Plain English (https://medium.com/python-in-plain-english?source=email-8864d0fe2302-1744000523644-digest.welcome-78073def27b8-b11334e4cdf7----1-109------------------f3737247_fabd_4bd8_bbf8_650e3d2b7603-1)\\r\\n\\r\\nFriendly Introduction to Deep Learning Architectures (CNN, RNN, GAN\\u2026\\r\\nThis blog aims to provide a friendly introduction to\\u2026\\r\\n\\r\\n8 min read\\r\\n1.6K\\r\\n20\\r\\n\\r\\nMauro Di Pietro (https://medium.com/@maurodp?source=email-8864d0fe2302-1744000523644-digest.welcome-7f60cf5620c9-4fc1e084e2ec----2-109------------------f3737247_fabd_4bd8_bbf8_650e3d2b7603-1)\\r\\ninTDS Archive (https://medium.com/data-science?source=email-8864d0fe2302-1744000523644-digest.welcome-7f60cf5620c9-4fc1e084e2ec----2-109------------------f3737247_fabd_4bd8_bbf8_650e3d2b7603-1)\\r\\n\\r\\nGenAI with Python: Build Agents from Scratch (Complete Tutorial)\\r\\nwith Ollama, LangChain, LangGraph (No GPU, No APIKEY)\\r\\n\\r\\n15 min read\\r\\n2.8K\\r\\n63\\r\\n\\r\\nMatt Bentley (https://medium.com/@mattbentley_67939?source=email-8864d0fe2302-1744000523644-digest.welcome-5517fd7b58a6-0e57073b4be1----3-102------------------f3737247_fabd_4bd8_bbf8_650e3d2b7603-1)\\r\\ninLevel Up Coding (https://medium.com/gitconnected?source=email-8864d0fe2302-1744000523644-digest.welcome-5517fd7b58a6-0e57073b4be1----3-102------------------f3737247_fabd_4bd8_bbf8_650e3d2b7603-1)\\r\\n\\r\\nMy Favourite Software Architecture Patterns\\r\\nExploring my most loved Software Architecture patterns\\u2026\\r\\n\\r\\n10 min read\\r\\n5.2K\\r\\n117\\r\\n\\r\\nDenilson Nastacio (https://medium.com/@dnastacio?source=email-8864d0fe2302-1744000523644-digest.welcome--d96d0d82b380----4-102------------------f3737247_fabd_4bd8_bbf8_650e3d2b7603-1)\\r\\n\\r\\nBalancing Capacity and Cost for Kubernetes Clusters\\r\\nInfinite Choices, but Which Is the Right One?\\r\\n\\r\\n11 min read\\r\\n94\\r\\n2\\r\\n\\r\\nBoris Meinardus (https://medium.com/@boris.meinardus?source=email-8864d0fe2302-1744000523644-digest.welcome-98111c9905da-5e83cefdb2aa----5-109------------------f3737247_fabd_4bd8_bbf8_650e3d2b7603-1)\\r\\ninTowards AI (https://medium.com/towards-artificial-intelligence?source=email-8864d0fe2302-1744000523644-digest.welcome-98111c9905da-5e83cefdb2aa----5-109------------------f3737247_fabd_4bd8_bbf8_650e3d2b7603-1)\\r\\n\\r\\nHow I'd learn ML in 2025 (if I could start over)\\r\\nAll you need to learn ML in 2025 is a laptop and a\\u2026\\r\\n\\r\\n11 min read\\r\\n1.4K\\r\\n46\\r\\n\\r\\nCezary Gesikowski (https://medium.com/@gesikowski?source=email-8864d0fe2302-1744000523644-digest.welcome-440100e76000-1885809cf82e----6-109------------------f3737247_fabd_4bd8_bbf8_650e3d2b7603-1)\\r\\ninGenerative AI (https://medium.com/generative-ai?source=email-8864d0fe2302-1744000523644-digest.welcome-440100e76000-1885809cf82e----6-109------------------f3737247_fabd_4bd8_bbf8_650e3d2b7603-1)\\r\\n\\r\\nHow To Write With AI Without Sounding Like AI\\u200a-\\u200aChatGPT Canvas\\r\\nCan AI make you a better writer without tricks, few\\u2026\\r\\n\\r\\n27 min read\\r\\n3.2K\\r\\n161\\r\\n\\r\\nIgnacio de Gregorio (https://medium.com/@ignacio.de.gregorio.noblejas?source=email-8864d0fe2302-1744000523644-digest.welcome--87a8f8c10d92----7-102------------------f3737247_fabd_4bd8_bbf8_650e3d2b7603-1)\\r\\n\\r\\nGoogle Has Finally Dethroned ChatGPT\\r\\nThey Finally Did It\\r\\n\\r\\n10 min read\\r\\n8.4K\\r\\n306\\r\\n\\r\\nKarolina Kozmana (https://medium.com/@k.kozmana?source=email-8864d0fe2302-1744000523644-digest.welcome--dd44714e619a----8-102------------------f3737247_fabd_4bd8_bbf8_650e3d2b7603-1)\\r\\n\\r\\nCommon side effects of not drinking\\r\\nBy rejecting alcohol, you reject something very human\\u2026\\r\\n\\r\\n10 min read\\r\\n57K\\r\\n2.2K\\r\\n\\r\\nBryan Ye (https://medium.com/@bryanye?source=email-8864d0fe2302-1744000523644-digest.welcome-7038e003d060-ceb02e29c802----9-109------------------f3737247_fabd_4bd8_bbf8_650e3d2b7603-1)\\r\\ninBetter Humans (https://medium.com/better-humans?source=email-8864d0fe2302-1744000523644-digest.welcome-7038e003d060-ceb02e29c802----9-109------------------f3737247_fabd_4bd8_bbf8_650e3d2b7603-1)\\r\\n\\r\\nHow To Wake Up at 5 A.M. Every Day\\r\\nAn unconventional and compassionate guide to becoming\\u2026\\r\\n\\r\\n15 min read\\r\\n114K\\r\\n2.1K\\r\\n\\r\\nFlorian June (https://medium.com/@florian_algo?source=email-8864d0fe2302-1744000523644-digest.welcome--23997297f2d1----10-109------------------f3737247_fabd_4bd8_bbf8_650e3d2b7603-1)\\r\\n\\r\\nAdvanced RAG 06: Exploring Query Rewriting\\r\\nA key technique for aligning the semantics of queries\\u2026\\r\\n\\r\\n16 min read\\r\\n1K\\r\\n7\\r\\n\\r\\nMaya Sayvanova (https://medium.com/@mayasayvanova?source=email-8864d0fe2302-1744000523644-digest.welcome-84ac01765c52-3ccb05027185----11-99------------------f3737247_fabd_4bd8_bbf8_650e3d2b7603-1)\\r\\ninWrite A Catalyst (https://medium.com/write-a-catalyst?source=email-8864d0fe2302-1744000523644-digest.welcome-84ac01765c52-3ccb05027185----11-99------------------f3737247_fabd_4bd8_bbf8_650e3d2b7603-1)\\r\\n\\r\\nThe 3 Best Platforms For New Writers\\r\\nBuild your solo business & quit your job in 2025.\\r\\n\\r\\n4 min read\\r\\n22K\\r\\n719\\r\\n\\r\\nJacob Bennett (https://medium.com/@jacobistyping?source=email-8864d0fe2302-1744000523644-digest.welcome-5517fd7b58a6-ef6d741c898e----12-109------------------f3737247_fabd_4bd8_bbf8_650e3d2b7603-1)\\r\\ninLevel Up Coding (https://medium.com/gitconnected?source=email-8864d0fe2302-1744000523644-digest.welcome-5517fd7b58a6-ef6d741c898e----12-109------------------f3737247_fabd_4bd8_bbf8_650e3d2b7603-1)\\r\\n\\r\\nUse Git like a senior engineer\\r\\nGit is a powerful tool that feels great to use when\\u2026\\r\\n\\r\\n4 min read\\r\\n11.5K\\r\\n215\\r\\n\\r\\nVipra Singh (https://medium.com/@vipra_singh?source=email-8864d0fe2302-1744000523644-digest.welcome--de5bf75e553a----13-109------------------f3737247_fabd_4bd8_bbf8_650e3d2b7603-1)\\r\\n\\r\\nLLM Architectures Explained: NLP Fundamentals (Part 1)\\r\\nDeep Dive into the architecture & building of\\u2026\\r\\n\\r\\n39 min read\\r\\n2.8K\\r\\n31\\r\\n\\r\\nStephan Joppich (https://medium.com/@stephanjoppich?source=email-8864d0fe2302-1744000523644-digest.welcome-aed17071426-cb57ca1819fa----14-109------------------f3737247_fabd_4bd8_bbf8_650e3d2b7603-1)\\r\\ninPragmatic Wisdom (https://medium.com/a-little-stoic-wisdom?source=email-8864d0fe2302-1744000523644-digest.welcome-aed17071426-cb57ca1819fa----14-109------------------f3737247_fabd_4bd8_bbf8_650e3d2b7603-1)\\r\\n\\r\\nGoodbye, Atomic Habits\\r\\nThe overlooked problems with building healthy habits\\r\\n\\r\\n9 min read\\r\\n20K\\r\\n581\\r\\n\\r\\nStart exploring\\r\\n\\r\\nIf you can imagine it, you can read about it here. Writers on Medium post in-depth analysis on everything from architecture and cultural phenomena to fan fiction and machine learning.\\r\\n\\r\\nDiscover more\\r\\n\\r\\nTake Medium with you\\r\\n\\r\\nSent by Medium (https://medium.com/?source=email-8864d0fe2302-1744000523644-digest.welcome-------------------------f3737247_fabd_4bd8_bbf8_650e3d2b7603)\\r\\n\\u00b73500 South DuPont Highway, Suite IQ-101, Dover,\\u00a0DE\\u00a019901\\r\\nUnsubscribe (https://medium.com/me/email-settings/8864d0fe2302/57aa868b40e7?type=product&source=email-8864d0fe2302-1744000523644-digest.welcome-------------------------f3737247_fabd_4bd8_bbf8_650e3d2b7603)\\r\\n from this type of email\\u00b7Switch to the Daily Digest (https://medium.com/me/email-settings/8864d0fe2302/57aa868b40e7?type=product&preference=1&source=email-8864d0fe2302-1744000523644-digest.welcome-------------------------f3737247_fabd_4bd8_bbf8_650e3d2b7603)\\r\\n\\u00b7Careers (https://medium.com/jobs-at-medium/work-at-medium-959d1a85284e?source=email-8864d0fe2302-1744000523644-digest.welcome-------------------------f3737247_fabd_4bd8_bbf8_650e3d2b7603)\\r\\n\\u00b7Help Center (https://help.medium.com/hc/en-us?source=email-8864d0fe2302-1744000523644-digest.welcome-------------------------f3737247_fabd_4bd8_bbf8_650e3d2b7603)\\r\\n\\u00b7Privacy Policy (https://policy.medium.com/medium-privacy-policy-f03bf92035c9?source=email-8864d0fe2302-1744000523644-digest.welcome-------------------------f3737247_fabd_4bd8_bbf8_650e3d2b7603)\\r\\n\\u00b7Terms of service (https://policy.medium.com/medium-terms-of-service-9db0094a1e0f?source=email-8864d0fe2302-1744000523644-digest.welcome-------------------------f3737247_fabd_4bd8_bbf8_650e3d2b7603)\"\n        ],\n        \"semantic_type\": \"\",\n        \"description\": \"\"\n      }\n    },\n    {\n      \"column\": \"timestamp\",\n      \"properties\": {\n        \"dtype\": \"object\",\n        \"num_unique_values\": 116,\n        \"samples\": [\n          \"2025-04-05 11:58:05.983044\",\n          \"2025-04-07 23:07:37.358909\",\n          \"2025-04-05 11:58:26.210195\"\n        ],\n        \"semantic_type\": \"\",\n        \"description\": \"\"\n      }\n    }\n  ]\n}"
            }
          },
          "metadata": {},
          "execution_count": 6
        }
      ]
    },
    {
      "cell_type": "code",
      "source": [
        "# data = pd.read_csv('emails.csv')"
      ],
      "metadata": {
        "id": "AZfHRceawX2a"
      },
      "execution_count": 7,
      "outputs": []
    },
    {
      "cell_type": "code",
      "source": [
        "# data.head()"
      ],
      "metadata": {
        "id": "TAdFEeIawfYy"
      },
      "execution_count": 8,
      "outputs": []
    },
    {
      "cell_type": "code",
      "source": [
        "def create_text_representation(row):\n",
        "    return f\"\"\"\n",
        "    Sender: {row['sender']}\n",
        "    Subject: {row['subject']}\n",
        "    Date: {row['timestamp']}\n",
        "\n",
        "    Email Body:\n",
        "    {row['body']}\n",
        "    \"\"\"\n"
      ],
      "metadata": {
        "id": "g6Mnb09F5QeD"
      },
      "execution_count": 9,
      "outputs": []
    },
    {
      "cell_type": "code",
      "source": [
        "!pip install chromadb"
      ],
      "metadata": {
        "colab": {
          "base_uri": "https://localhost:8080/"
        },
        "collapsed": true,
        "id": "aHXE3elaNsDN",
        "outputId": "0fe56544-0cd6-4a25-c970-3d0d0579cbbd"
      },
      "execution_count": 10,
      "outputs": [
        {
          "output_type": "stream",
          "name": "stdout",
          "text": [
            "Requirement already satisfied: chromadb in /usr/local/lib/python3.11/dist-packages (1.0.0)\n",
            "Requirement already satisfied: build>=1.0.3 in /usr/local/lib/python3.11/dist-packages (from chromadb) (1.2.2.post1)\n",
            "Requirement already satisfied: pydantic>=1.9 in /usr/local/lib/python3.11/dist-packages (from chromadb) (2.11.2)\n",
            "Requirement already satisfied: chroma-hnswlib==0.7.6 in /usr/local/lib/python3.11/dist-packages (from chromadb) (0.7.6)\n",
            "Requirement already satisfied: fastapi==0.115.9 in /usr/local/lib/python3.11/dist-packages (from chromadb) (0.115.9)\n",
            "Requirement already satisfied: uvicorn>=0.18.3 in /usr/local/lib/python3.11/dist-packages (from uvicorn[standard]>=0.18.3->chromadb) (0.34.0)\n",
            "Requirement already satisfied: numpy>=1.22.5 in /usr/local/lib/python3.11/dist-packages (from chromadb) (2.0.2)\n",
            "Requirement already satisfied: posthog>=2.4.0 in /usr/local/lib/python3.11/dist-packages (from chromadb) (3.23.0)\n",
            "Requirement already satisfied: typing-extensions>=4.5.0 in /usr/local/lib/python3.11/dist-packages (from chromadb) (4.13.1)\n",
            "Requirement already satisfied: onnxruntime>=1.14.1 in /usr/local/lib/python3.11/dist-packages (from chromadb) (1.21.0)\n",
            "Requirement already satisfied: opentelemetry-api>=1.2.0 in /usr/local/lib/python3.11/dist-packages (from chromadb) (1.31.1)\n",
            "Requirement already satisfied: opentelemetry-exporter-otlp-proto-grpc>=1.2.0 in /usr/local/lib/python3.11/dist-packages (from chromadb) (1.31.1)\n",
            "Requirement already satisfied: opentelemetry-instrumentation-fastapi>=0.41b0 in /usr/local/lib/python3.11/dist-packages (from chromadb) (0.52b1)\n",
            "Requirement already satisfied: opentelemetry-sdk>=1.2.0 in /usr/local/lib/python3.11/dist-packages (from chromadb) (1.31.1)\n",
            "Requirement already satisfied: tokenizers>=0.13.2 in /usr/local/lib/python3.11/dist-packages (from chromadb) (0.21.1)\n",
            "Requirement already satisfied: pypika>=0.48.9 in /usr/local/lib/python3.11/dist-packages (from chromadb) (0.48.9)\n",
            "Requirement already satisfied: tqdm>=4.65.0 in /usr/local/lib/python3.11/dist-packages (from chromadb) (4.67.1)\n",
            "Requirement already satisfied: overrides>=7.3.1 in /usr/local/lib/python3.11/dist-packages (from chromadb) (7.7.0)\n",
            "Requirement already satisfied: importlib-resources in /usr/local/lib/python3.11/dist-packages (from chromadb) (6.5.2)\n",
            "Requirement already satisfied: grpcio>=1.58.0 in /usr/local/lib/python3.11/dist-packages (from chromadb) (1.71.0)\n",
            "Requirement already satisfied: bcrypt>=4.0.1 in /usr/local/lib/python3.11/dist-packages (from chromadb) (4.3.0)\n",
            "Requirement already satisfied: typer>=0.9.0 in /usr/local/lib/python3.11/dist-packages (from chromadb) (0.15.2)\n",
            "Requirement already satisfied: kubernetes>=28.1.0 in /usr/local/lib/python3.11/dist-packages (from chromadb) (32.0.1)\n",
            "Requirement already satisfied: tenacity>=8.2.3 in /usr/local/lib/python3.11/dist-packages (from chromadb) (9.1.2)\n",
            "Requirement already satisfied: pyyaml>=6.0.0 in /usr/local/lib/python3.11/dist-packages (from chromadb) (6.0.2)\n",
            "Requirement already satisfied: mmh3>=4.0.1 in /usr/local/lib/python3.11/dist-packages (from chromadb) (5.1.0)\n",
            "Requirement already satisfied: orjson>=3.9.12 in /usr/local/lib/python3.11/dist-packages (from chromadb) (3.10.16)\n",
            "Requirement already satisfied: httpx>=0.27.0 in /usr/local/lib/python3.11/dist-packages (from chromadb) (0.28.1)\n",
            "Requirement already satisfied: rich>=10.11.0 in /usr/local/lib/python3.11/dist-packages (from chromadb) (13.9.4)\n",
            "Requirement already satisfied: jsonschema>=4.19.0 in /usr/local/lib/python3.11/dist-packages (from chromadb) (4.23.0)\n",
            "Requirement already satisfied: starlette<0.46.0,>=0.40.0 in /usr/local/lib/python3.11/dist-packages (from fastapi==0.115.9->chromadb) (0.45.3)\n",
            "Requirement already satisfied: packaging>=19.1 in /usr/local/lib/python3.11/dist-packages (from build>=1.0.3->chromadb) (24.2)\n",
            "Requirement already satisfied: pyproject_hooks in /usr/local/lib/python3.11/dist-packages (from build>=1.0.3->chromadb) (1.2.0)\n",
            "Requirement already satisfied: anyio in /usr/local/lib/python3.11/dist-packages (from httpx>=0.27.0->chromadb) (4.9.0)\n",
            "Requirement already satisfied: certifi in /usr/local/lib/python3.11/dist-packages (from httpx>=0.27.0->chromadb) (2025.1.31)\n",
            "Requirement already satisfied: httpcore==1.* in /usr/local/lib/python3.11/dist-packages (from httpx>=0.27.0->chromadb) (1.0.7)\n",
            "Requirement already satisfied: idna in /usr/local/lib/python3.11/dist-packages (from httpx>=0.27.0->chromadb) (3.10)\n",
            "Requirement already satisfied: h11<0.15,>=0.13 in /usr/local/lib/python3.11/dist-packages (from httpcore==1.*->httpx>=0.27.0->chromadb) (0.14.0)\n",
            "Requirement already satisfied: attrs>=22.2.0 in /usr/local/lib/python3.11/dist-packages (from jsonschema>=4.19.0->chromadb) (25.3.0)\n",
            "Requirement already satisfied: jsonschema-specifications>=2023.03.6 in /usr/local/lib/python3.11/dist-packages (from jsonschema>=4.19.0->chromadb) (2024.10.1)\n",
            "Requirement already satisfied: referencing>=0.28.4 in /usr/local/lib/python3.11/dist-packages (from jsonschema>=4.19.0->chromadb) (0.36.2)\n",
            "Requirement already satisfied: rpds-py>=0.7.1 in /usr/local/lib/python3.11/dist-packages (from jsonschema>=4.19.0->chromadb) (0.24.0)\n",
            "Requirement already satisfied: six>=1.9.0 in /usr/local/lib/python3.11/dist-packages (from kubernetes>=28.1.0->chromadb) (1.17.0)\n",
            "Requirement already satisfied: python-dateutil>=2.5.3 in /usr/local/lib/python3.11/dist-packages (from kubernetes>=28.1.0->chromadb) (2.8.2)\n",
            "Requirement already satisfied: google-auth>=1.0.1 in /usr/local/lib/python3.11/dist-packages (from kubernetes>=28.1.0->chromadb) (2.38.0)\n",
            "Requirement already satisfied: websocket-client!=0.40.0,!=0.41.*,!=0.42.*,>=0.32.0 in /usr/local/lib/python3.11/dist-packages (from kubernetes>=28.1.0->chromadb) (1.8.0)\n",
            "Requirement already satisfied: requests in /usr/local/lib/python3.11/dist-packages (from kubernetes>=28.1.0->chromadb) (2.32.3)\n",
            "Requirement already satisfied: requests-oauthlib in /usr/local/lib/python3.11/dist-packages (from kubernetes>=28.1.0->chromadb) (2.0.0)\n",
            "Requirement already satisfied: oauthlib>=3.2.2 in /usr/local/lib/python3.11/dist-packages (from kubernetes>=28.1.0->chromadb) (3.2.2)\n",
            "Requirement already satisfied: urllib3>=1.24.2 in /usr/local/lib/python3.11/dist-packages (from kubernetes>=28.1.0->chromadb) (2.3.0)\n",
            "Requirement already satisfied: durationpy>=0.7 in /usr/local/lib/python3.11/dist-packages (from kubernetes>=28.1.0->chromadb) (0.9)\n",
            "Requirement already satisfied: coloredlogs in /usr/local/lib/python3.11/dist-packages (from onnxruntime>=1.14.1->chromadb) (15.0.1)\n",
            "Requirement already satisfied: flatbuffers in /usr/local/lib/python3.11/dist-packages (from onnxruntime>=1.14.1->chromadb) (25.2.10)\n",
            "Requirement already satisfied: protobuf in /usr/local/lib/python3.11/dist-packages (from onnxruntime>=1.14.1->chromadb) (5.29.4)\n",
            "Requirement already satisfied: sympy in /usr/local/lib/python3.11/dist-packages (from onnxruntime>=1.14.1->chromadb) (1.13.1)\n",
            "Requirement already satisfied: deprecated>=1.2.6 in /usr/local/lib/python3.11/dist-packages (from opentelemetry-api>=1.2.0->chromadb) (1.2.18)\n",
            "Requirement already satisfied: importlib-metadata<8.7.0,>=6.0 in /usr/local/lib/python3.11/dist-packages (from opentelemetry-api>=1.2.0->chromadb) (8.6.1)\n",
            "Requirement already satisfied: googleapis-common-protos~=1.52 in /usr/local/lib/python3.11/dist-packages (from opentelemetry-exporter-otlp-proto-grpc>=1.2.0->chromadb) (1.69.2)\n",
            "Requirement already satisfied: opentelemetry-exporter-otlp-proto-common==1.31.1 in /usr/local/lib/python3.11/dist-packages (from opentelemetry-exporter-otlp-proto-grpc>=1.2.0->chromadb) (1.31.1)\n",
            "Requirement already satisfied: opentelemetry-proto==1.31.1 in /usr/local/lib/python3.11/dist-packages (from opentelemetry-exporter-otlp-proto-grpc>=1.2.0->chromadb) (1.31.1)\n",
            "Requirement already satisfied: opentelemetry-instrumentation-asgi==0.52b1 in /usr/local/lib/python3.11/dist-packages (from opentelemetry-instrumentation-fastapi>=0.41b0->chromadb) (0.52b1)\n",
            "Requirement already satisfied: opentelemetry-instrumentation==0.52b1 in /usr/local/lib/python3.11/dist-packages (from opentelemetry-instrumentation-fastapi>=0.41b0->chromadb) (0.52b1)\n",
            "Requirement already satisfied: opentelemetry-semantic-conventions==0.52b1 in /usr/local/lib/python3.11/dist-packages (from opentelemetry-instrumentation-fastapi>=0.41b0->chromadb) (0.52b1)\n",
            "Requirement already satisfied: opentelemetry-util-http==0.52b1 in /usr/local/lib/python3.11/dist-packages (from opentelemetry-instrumentation-fastapi>=0.41b0->chromadb) (0.52b1)\n",
            "Requirement already satisfied: wrapt<2.0.0,>=1.0.0 in /usr/local/lib/python3.11/dist-packages (from opentelemetry-instrumentation==0.52b1->opentelemetry-instrumentation-fastapi>=0.41b0->chromadb) (1.17.2)\n",
            "Requirement already satisfied: asgiref~=3.0 in /usr/local/lib/python3.11/dist-packages (from opentelemetry-instrumentation-asgi==0.52b1->opentelemetry-instrumentation-fastapi>=0.41b0->chromadb) (3.8.1)\n",
            "Requirement already satisfied: monotonic>=1.5 in /usr/local/lib/python3.11/dist-packages (from posthog>=2.4.0->chromadb) (1.6)\n",
            "Requirement already satisfied: backoff>=1.10.0 in /usr/local/lib/python3.11/dist-packages (from posthog>=2.4.0->chromadb) (2.2.1)\n",
            "Requirement already satisfied: distro>=1.5.0 in /usr/local/lib/python3.11/dist-packages (from posthog>=2.4.0->chromadb) (1.9.0)\n",
            "Requirement already satisfied: annotated-types>=0.6.0 in /usr/local/lib/python3.11/dist-packages (from pydantic>=1.9->chromadb) (0.7.0)\n",
            "Requirement already satisfied: pydantic-core==2.33.1 in /usr/local/lib/python3.11/dist-packages (from pydantic>=1.9->chromadb) (2.33.1)\n",
            "Requirement already satisfied: typing-inspection>=0.4.0 in /usr/local/lib/python3.11/dist-packages (from pydantic>=1.9->chromadb) (0.4.0)\n",
            "Requirement already satisfied: markdown-it-py>=2.2.0 in /usr/local/lib/python3.11/dist-packages (from rich>=10.11.0->chromadb) (3.0.0)\n",
            "Requirement already satisfied: pygments<3.0.0,>=2.13.0 in /usr/local/lib/python3.11/dist-packages (from rich>=10.11.0->chromadb) (2.18.0)\n",
            "Requirement already satisfied: huggingface-hub<1.0,>=0.16.4 in /usr/local/lib/python3.11/dist-packages (from tokenizers>=0.13.2->chromadb) (0.30.1)\n",
            "Requirement already satisfied: click>=8.0.0 in /usr/local/lib/python3.11/dist-packages (from typer>=0.9.0->chromadb) (8.1.8)\n",
            "Requirement already satisfied: shellingham>=1.3.0 in /usr/local/lib/python3.11/dist-packages (from typer>=0.9.0->chromadb) (1.5.4)\n",
            "Requirement already satisfied: httptools>=0.6.3 in /usr/local/lib/python3.11/dist-packages (from uvicorn[standard]>=0.18.3->chromadb) (0.6.4)\n",
            "Requirement already satisfied: python-dotenv>=0.13 in /usr/local/lib/python3.11/dist-packages (from uvicorn[standard]>=0.18.3->chromadb) (1.1.0)\n",
            "Requirement already satisfied: uvloop!=0.15.0,!=0.15.1,>=0.14.0 in /usr/local/lib/python3.11/dist-packages (from uvicorn[standard]>=0.18.3->chromadb) (0.21.0)\n",
            "Requirement already satisfied: watchfiles>=0.13 in /usr/local/lib/python3.11/dist-packages (from uvicorn[standard]>=0.18.3->chromadb) (1.0.4)\n",
            "Requirement already satisfied: websockets>=10.4 in /usr/local/lib/python3.11/dist-packages (from uvicorn[standard]>=0.18.3->chromadb) (15.0.1)\n",
            "Requirement already satisfied: cachetools<6.0,>=2.0.0 in /usr/local/lib/python3.11/dist-packages (from google-auth>=1.0.1->kubernetes>=28.1.0->chromadb) (5.5.2)\n",
            "Requirement already satisfied: pyasn1-modules>=0.2.1 in /usr/local/lib/python3.11/dist-packages (from google-auth>=1.0.1->kubernetes>=28.1.0->chromadb) (0.4.2)\n",
            "Requirement already satisfied: rsa<5,>=3.1.4 in /usr/local/lib/python3.11/dist-packages (from google-auth>=1.0.1->kubernetes>=28.1.0->chromadb) (4.9)\n",
            "Requirement already satisfied: filelock in /usr/local/lib/python3.11/dist-packages (from huggingface-hub<1.0,>=0.16.4->tokenizers>=0.13.2->chromadb) (3.18.0)\n",
            "Requirement already satisfied: fsspec>=2023.5.0 in /usr/local/lib/python3.11/dist-packages (from huggingface-hub<1.0,>=0.16.4->tokenizers>=0.13.2->chromadb) (2025.3.2)\n",
            "Requirement already satisfied: zipp>=3.20 in /usr/local/lib/python3.11/dist-packages (from importlib-metadata<8.7.0,>=6.0->opentelemetry-api>=1.2.0->chromadb) (3.21.0)\n",
            "Requirement already satisfied: mdurl~=0.1 in /usr/local/lib/python3.11/dist-packages (from markdown-it-py>=2.2.0->rich>=10.11.0->chromadb) (0.1.2)\n",
            "Requirement already satisfied: charset-normalizer<4,>=2 in /usr/local/lib/python3.11/dist-packages (from requests->kubernetes>=28.1.0->chromadb) (3.4.1)\n",
            "Requirement already satisfied: sniffio>=1.1 in /usr/local/lib/python3.11/dist-packages (from anyio->httpx>=0.27.0->chromadb) (1.3.1)\n",
            "Requirement already satisfied: humanfriendly>=9.1 in /usr/local/lib/python3.11/dist-packages (from coloredlogs->onnxruntime>=1.14.1->chromadb) (10.0)\n",
            "Requirement already satisfied: mpmath<1.4,>=1.1.0 in /usr/local/lib/python3.11/dist-packages (from sympy->onnxruntime>=1.14.1->chromadb) (1.3.0)\n",
            "Requirement already satisfied: pyasn1<0.7.0,>=0.6.1 in /usr/local/lib/python3.11/dist-packages (from pyasn1-modules>=0.2.1->google-auth>=1.0.1->kubernetes>=28.1.0->chromadb) (0.6.1)\n"
          ]
        }
      ]
    },
    {
      "cell_type": "code",
      "source": [
        "!pip install langchain_community"
      ],
      "metadata": {
        "collapsed": true,
        "colab": {
          "base_uri": "https://localhost:8080/"
        },
        "id": "fIwORC7CN6gU",
        "outputId": "20406a95-4c14-4a54-f1bf-6e4b404b0e25"
      },
      "execution_count": 11,
      "outputs": [
        {
          "output_type": "stream",
          "name": "stdout",
          "text": [
            "Requirement already satisfied: langchain_community in /usr/local/lib/python3.11/dist-packages (0.3.21)\n",
            "Requirement already satisfied: langchain-core<1.0.0,>=0.3.51 in /usr/local/lib/python3.11/dist-packages (from langchain_community) (0.3.51)\n",
            "Requirement already satisfied: langchain<1.0.0,>=0.3.23 in /usr/local/lib/python3.11/dist-packages (from langchain_community) (0.3.23)\n",
            "Requirement already satisfied: SQLAlchemy<3,>=1.4 in /usr/local/lib/python3.11/dist-packages (from langchain_community) (2.0.40)\n",
            "Requirement already satisfied: requests<3,>=2 in /usr/local/lib/python3.11/dist-packages (from langchain_community) (2.32.3)\n",
            "Requirement already satisfied: PyYAML>=5.3 in /usr/local/lib/python3.11/dist-packages (from langchain_community) (6.0.2)\n",
            "Requirement already satisfied: aiohttp<4.0.0,>=3.8.3 in /usr/local/lib/python3.11/dist-packages (from langchain_community) (3.11.15)\n",
            "Requirement already satisfied: tenacity!=8.4.0,<10,>=8.1.0 in /usr/local/lib/python3.11/dist-packages (from langchain_community) (9.1.2)\n",
            "Requirement already satisfied: dataclasses-json<0.7,>=0.5.7 in /usr/local/lib/python3.11/dist-packages (from langchain_community) (0.6.7)\n",
            "Requirement already satisfied: pydantic-settings<3.0.0,>=2.4.0 in /usr/local/lib/python3.11/dist-packages (from langchain_community) (2.8.1)\n",
            "Requirement already satisfied: langsmith<0.4,>=0.1.125 in /usr/local/lib/python3.11/dist-packages (from langchain_community) (0.3.23)\n",
            "Requirement already satisfied: httpx-sse<1.0.0,>=0.4.0 in /usr/local/lib/python3.11/dist-packages (from langchain_community) (0.4.0)\n",
            "Requirement already satisfied: numpy<3,>=1.26.2 in /usr/local/lib/python3.11/dist-packages (from langchain_community) (2.0.2)\n",
            "Requirement already satisfied: aiohappyeyeballs>=2.3.0 in /usr/local/lib/python3.11/dist-packages (from aiohttp<4.0.0,>=3.8.3->langchain_community) (2.6.1)\n",
            "Requirement already satisfied: aiosignal>=1.1.2 in /usr/local/lib/python3.11/dist-packages (from aiohttp<4.0.0,>=3.8.3->langchain_community) (1.3.2)\n",
            "Requirement already satisfied: attrs>=17.3.0 in /usr/local/lib/python3.11/dist-packages (from aiohttp<4.0.0,>=3.8.3->langchain_community) (25.3.0)\n",
            "Requirement already satisfied: frozenlist>=1.1.1 in /usr/local/lib/python3.11/dist-packages (from aiohttp<4.0.0,>=3.8.3->langchain_community) (1.5.0)\n",
            "Requirement already satisfied: multidict<7.0,>=4.5 in /usr/local/lib/python3.11/dist-packages (from aiohttp<4.0.0,>=3.8.3->langchain_community) (6.2.0)\n",
            "Requirement already satisfied: propcache>=0.2.0 in /usr/local/lib/python3.11/dist-packages (from aiohttp<4.0.0,>=3.8.3->langchain_community) (0.3.1)\n",
            "Requirement already satisfied: yarl<2.0,>=1.17.0 in /usr/local/lib/python3.11/dist-packages (from aiohttp<4.0.0,>=3.8.3->langchain_community) (1.18.3)\n",
            "Requirement already satisfied: marshmallow<4.0.0,>=3.18.0 in /usr/local/lib/python3.11/dist-packages (from dataclasses-json<0.7,>=0.5.7->langchain_community) (3.26.1)\n",
            "Requirement already satisfied: typing-inspect<1,>=0.4.0 in /usr/local/lib/python3.11/dist-packages (from dataclasses-json<0.7,>=0.5.7->langchain_community) (0.9.0)\n",
            "Requirement already satisfied: langchain-text-splitters<1.0.0,>=0.3.8 in /usr/local/lib/python3.11/dist-packages (from langchain<1.0.0,>=0.3.23->langchain_community) (0.3.8)\n",
            "Requirement already satisfied: pydantic<3.0.0,>=2.7.4 in /usr/local/lib/python3.11/dist-packages (from langchain<1.0.0,>=0.3.23->langchain_community) (2.11.2)\n",
            "Requirement already satisfied: jsonpatch<2.0,>=1.33 in /usr/local/lib/python3.11/dist-packages (from langchain-core<1.0.0,>=0.3.51->langchain_community) (1.33)\n",
            "Requirement already satisfied: packaging<25,>=23.2 in /usr/local/lib/python3.11/dist-packages (from langchain-core<1.0.0,>=0.3.51->langchain_community) (24.2)\n",
            "Requirement already satisfied: typing-extensions>=4.7 in /usr/local/lib/python3.11/dist-packages (from langchain-core<1.0.0,>=0.3.51->langchain_community) (4.13.1)\n",
            "Requirement already satisfied: httpx<1,>=0.23.0 in /usr/local/lib/python3.11/dist-packages (from langsmith<0.4,>=0.1.125->langchain_community) (0.28.1)\n",
            "Requirement already satisfied: orjson<4.0.0,>=3.9.14 in /usr/local/lib/python3.11/dist-packages (from langsmith<0.4,>=0.1.125->langchain_community) (3.10.16)\n",
            "Requirement already satisfied: requests-toolbelt<2.0.0,>=1.0.0 in /usr/local/lib/python3.11/dist-packages (from langsmith<0.4,>=0.1.125->langchain_community) (1.0.0)\n",
            "Requirement already satisfied: zstandard<0.24.0,>=0.23.0 in /usr/local/lib/python3.11/dist-packages (from langsmith<0.4,>=0.1.125->langchain_community) (0.23.0)\n",
            "Requirement already satisfied: python-dotenv>=0.21.0 in /usr/local/lib/python3.11/dist-packages (from pydantic-settings<3.0.0,>=2.4.0->langchain_community) (1.1.0)\n",
            "Requirement already satisfied: charset-normalizer<4,>=2 in /usr/local/lib/python3.11/dist-packages (from requests<3,>=2->langchain_community) (3.4.1)\n",
            "Requirement already satisfied: idna<4,>=2.5 in /usr/local/lib/python3.11/dist-packages (from requests<3,>=2->langchain_community) (3.10)\n",
            "Requirement already satisfied: urllib3<3,>=1.21.1 in /usr/local/lib/python3.11/dist-packages (from requests<3,>=2->langchain_community) (2.3.0)\n",
            "Requirement already satisfied: certifi>=2017.4.17 in /usr/local/lib/python3.11/dist-packages (from requests<3,>=2->langchain_community) (2025.1.31)\n",
            "Requirement already satisfied: greenlet>=1 in /usr/local/lib/python3.11/dist-packages (from SQLAlchemy<3,>=1.4->langchain_community) (3.1.1)\n",
            "Requirement already satisfied: anyio in /usr/local/lib/python3.11/dist-packages (from httpx<1,>=0.23.0->langsmith<0.4,>=0.1.125->langchain_community) (4.9.0)\n",
            "Requirement already satisfied: httpcore==1.* in /usr/local/lib/python3.11/dist-packages (from httpx<1,>=0.23.0->langsmith<0.4,>=0.1.125->langchain_community) (1.0.7)\n",
            "Requirement already satisfied: h11<0.15,>=0.13 in /usr/local/lib/python3.11/dist-packages (from httpcore==1.*->httpx<1,>=0.23.0->langsmith<0.4,>=0.1.125->langchain_community) (0.14.0)\n",
            "Requirement already satisfied: jsonpointer>=1.9 in /usr/local/lib/python3.11/dist-packages (from jsonpatch<2.0,>=1.33->langchain-core<1.0.0,>=0.3.51->langchain_community) (3.0.0)\n",
            "Requirement already satisfied: annotated-types>=0.6.0 in /usr/local/lib/python3.11/dist-packages (from pydantic<3.0.0,>=2.7.4->langchain<1.0.0,>=0.3.23->langchain_community) (0.7.0)\n",
            "Requirement already satisfied: pydantic-core==2.33.1 in /usr/local/lib/python3.11/dist-packages (from pydantic<3.0.0,>=2.7.4->langchain<1.0.0,>=0.3.23->langchain_community) (2.33.1)\n",
            "Requirement already satisfied: typing-inspection>=0.4.0 in /usr/local/lib/python3.11/dist-packages (from pydantic<3.0.0,>=2.7.4->langchain<1.0.0,>=0.3.23->langchain_community) (0.4.0)\n",
            "Requirement already satisfied: mypy-extensions>=0.3.0 in /usr/local/lib/python3.11/dist-packages (from typing-inspect<1,>=0.4.0->dataclasses-json<0.7,>=0.5.7->langchain_community) (1.0.0)\n",
            "Requirement already satisfied: sniffio>=1.1 in /usr/local/lib/python3.11/dist-packages (from anyio->httpx<1,>=0.23.0->langsmith<0.4,>=0.1.125->langchain_community) (1.3.1)\n"
          ]
        }
      ]
    },
    {
      "cell_type": "code",
      "source": [
        "from langchain_community.embeddings import HuggingFaceEmbeddings\n",
        "import chromadb"
      ],
      "metadata": {
        "id": "g8V7pi2QN_Sk"
      },
      "execution_count": 12,
      "outputs": []
    },
    {
      "cell_type": "code",
      "source": [
        "embeddings_model = HuggingFaceEmbeddings(model_name=\"sentence-transformers/all-MiniLM-L6-v2\")"
      ],
      "metadata": {
        "colab": {
          "base_uri": "https://localhost:8080/"
        },
        "id": "A8--cO9AOD-E",
        "outputId": "065edb01-2079-43fe-abdd-9224e6e225b3"
      },
      "execution_count": 13,
      "outputs": [
        {
          "output_type": "stream",
          "name": "stderr",
          "text": [
            "<ipython-input-13-86f3ffb55a21>:1: LangChainDeprecationWarning: The class `HuggingFaceEmbeddings` was deprecated in LangChain 0.2.2 and will be removed in 1.0. An updated version of the class exists in the :class:`~langchain-huggingface package and should be used instead. To use it run `pip install -U :class:`~langchain-huggingface` and import as `from :class:`~langchain_huggingface import HuggingFaceEmbeddings``.\n",
            "  embeddings_model = HuggingFaceEmbeddings(model_name=\"sentence-transformers/all-MiniLM-L6-v2\")\n"
          ]
        }
      ]
    },
    {
      "cell_type": "code",
      "source": [
        "data['text_representation'] = data.apply(create_text_representation, axis=1)"
      ],
      "metadata": {
        "id": "K67mVoXTOr0k"
      },
      "execution_count": 14,
      "outputs": []
    },
    {
      "cell_type": "code",
      "source": [
        "chroma_client = chromadb.PersistentClient(path=\"./chroma_db\")"
      ],
      "metadata": {
        "id": "MZw3GQq6Pbsd"
      },
      "execution_count": 15,
      "outputs": []
    },
    {
      "cell_type": "code",
      "source": [
        "collection = chroma_client.get_or_create_collection(name=\"emails\")"
      ],
      "metadata": {
        "id": "gXCO3xu1PfSc"
      },
      "execution_count": 16,
      "outputs": []
    },
    {
      "cell_type": "code",
      "source": [
        "text = data['text_representation'].tolist()"
      ],
      "metadata": {
        "id": "6hwi0jvUPjWR"
      },
      "execution_count": 17,
      "outputs": []
    },
    {
      "cell_type": "code",
      "source": [
        "ids = [str(index) for index in data.index]"
      ],
      "metadata": {
        "id": "Xxjui5OxQc52"
      },
      "execution_count": 18,
      "outputs": []
    },
    {
      "cell_type": "code",
      "source": [
        "metadatas = [\n",
        "    {\n",
        "        \"sender\": row[\"sender\"],\n",
        "        \"subject\": row[\"subject\"],\n",
        "        \"timestamp\": row[\"timestamp\"]\n",
        "    }\n",
        "    for _, row in data.iterrows()\n",
        "]"
      ],
      "metadata": {
        "id": "v81SZy1FQij7"
      },
      "execution_count": 19,
      "outputs": []
    },
    {
      "cell_type": "code",
      "source": [
        "collection.add(\n",
        "    ids=ids,\n",
        "    documents=text,\n",
        "    metadatas=metadatas\n",
        ")"
      ],
      "metadata": {
        "id": "k9oF2TksQobG"
      },
      "execution_count": 20,
      "outputs": []
    },
    {
      "cell_type": "markdown",
      "source": [
        "# LLM with RAG"
      ],
      "metadata": {
        "id": "FJXXGTRIBVhD"
      }
    },
    {
      "cell_type": "markdown",
      "source": [
        "## Installations and imports"
      ],
      "metadata": {
        "id": "_R3yyvsCBZMp"
      }
    },
    {
      "cell_type": "code",
      "source": [
        "!pip install langchain-mistralai"
      ],
      "metadata": {
        "colab": {
          "base_uri": "https://localhost:8080/"
        },
        "collapsed": true,
        "id": "dz1FMraizBnO",
        "outputId": "77a4fa23-950c-4fb1-aa0b-9fff3df5b3a0"
      },
      "execution_count": 21,
      "outputs": [
        {
          "output_type": "stream",
          "name": "stdout",
          "text": [
            "Requirement already satisfied: langchain-mistralai in /usr/local/lib/python3.11/dist-packages (0.2.10)\n",
            "Requirement already satisfied: langchain-core<1.0.0,>=0.3.49 in /usr/local/lib/python3.11/dist-packages (from langchain-mistralai) (0.3.51)\n",
            "Requirement already satisfied: tokenizers<1,>=0.15.1 in /usr/local/lib/python3.11/dist-packages (from langchain-mistralai) (0.21.1)\n",
            "Requirement already satisfied: httpx<1,>=0.25.2 in /usr/local/lib/python3.11/dist-packages (from langchain-mistralai) (0.28.1)\n",
            "Requirement already satisfied: httpx-sse<1,>=0.3.1 in /usr/local/lib/python3.11/dist-packages (from langchain-mistralai) (0.4.0)\n",
            "Requirement already satisfied: pydantic<3,>=2 in /usr/local/lib/python3.11/dist-packages (from langchain-mistralai) (2.11.2)\n",
            "Requirement already satisfied: anyio in /usr/local/lib/python3.11/dist-packages (from httpx<1,>=0.25.2->langchain-mistralai) (4.9.0)\n",
            "Requirement already satisfied: certifi in /usr/local/lib/python3.11/dist-packages (from httpx<1,>=0.25.2->langchain-mistralai) (2025.1.31)\n",
            "Requirement already satisfied: httpcore==1.* in /usr/local/lib/python3.11/dist-packages (from httpx<1,>=0.25.2->langchain-mistralai) (1.0.7)\n",
            "Requirement already satisfied: idna in /usr/local/lib/python3.11/dist-packages (from httpx<1,>=0.25.2->langchain-mistralai) (3.10)\n",
            "Requirement already satisfied: h11<0.15,>=0.13 in /usr/local/lib/python3.11/dist-packages (from httpcore==1.*->httpx<1,>=0.25.2->langchain-mistralai) (0.14.0)\n",
            "Requirement already satisfied: langsmith<0.4,>=0.1.125 in /usr/local/lib/python3.11/dist-packages (from langchain-core<1.0.0,>=0.3.49->langchain-mistralai) (0.3.23)\n",
            "Requirement already satisfied: tenacity!=8.4.0,<10.0.0,>=8.1.0 in /usr/local/lib/python3.11/dist-packages (from langchain-core<1.0.0,>=0.3.49->langchain-mistralai) (9.1.2)\n",
            "Requirement already satisfied: jsonpatch<2.0,>=1.33 in /usr/local/lib/python3.11/dist-packages (from langchain-core<1.0.0,>=0.3.49->langchain-mistralai) (1.33)\n",
            "Requirement already satisfied: PyYAML>=5.3 in /usr/local/lib/python3.11/dist-packages (from langchain-core<1.0.0,>=0.3.49->langchain-mistralai) (6.0.2)\n",
            "Requirement already satisfied: packaging<25,>=23.2 in /usr/local/lib/python3.11/dist-packages (from langchain-core<1.0.0,>=0.3.49->langchain-mistralai) (24.2)\n",
            "Requirement already satisfied: typing-extensions>=4.7 in /usr/local/lib/python3.11/dist-packages (from langchain-core<1.0.0,>=0.3.49->langchain-mistralai) (4.13.1)\n",
            "Requirement already satisfied: annotated-types>=0.6.0 in /usr/local/lib/python3.11/dist-packages (from pydantic<3,>=2->langchain-mistralai) (0.7.0)\n",
            "Requirement already satisfied: pydantic-core==2.33.1 in /usr/local/lib/python3.11/dist-packages (from pydantic<3,>=2->langchain-mistralai) (2.33.1)\n",
            "Requirement already satisfied: typing-inspection>=0.4.0 in /usr/local/lib/python3.11/dist-packages (from pydantic<3,>=2->langchain-mistralai) (0.4.0)\n",
            "Requirement already satisfied: huggingface-hub<1.0,>=0.16.4 in /usr/local/lib/python3.11/dist-packages (from tokenizers<1,>=0.15.1->langchain-mistralai) (0.30.1)\n",
            "Requirement already satisfied: filelock in /usr/local/lib/python3.11/dist-packages (from huggingface-hub<1.0,>=0.16.4->tokenizers<1,>=0.15.1->langchain-mistralai) (3.18.0)\n",
            "Requirement already satisfied: fsspec>=2023.5.0 in /usr/local/lib/python3.11/dist-packages (from huggingface-hub<1.0,>=0.16.4->tokenizers<1,>=0.15.1->langchain-mistralai) (2025.3.2)\n",
            "Requirement already satisfied: requests in /usr/local/lib/python3.11/dist-packages (from huggingface-hub<1.0,>=0.16.4->tokenizers<1,>=0.15.1->langchain-mistralai) (2.32.3)\n",
            "Requirement already satisfied: tqdm>=4.42.1 in /usr/local/lib/python3.11/dist-packages (from huggingface-hub<1.0,>=0.16.4->tokenizers<1,>=0.15.1->langchain-mistralai) (4.67.1)\n",
            "Requirement already satisfied: jsonpointer>=1.9 in /usr/local/lib/python3.11/dist-packages (from jsonpatch<2.0,>=1.33->langchain-core<1.0.0,>=0.3.49->langchain-mistralai) (3.0.0)\n",
            "Requirement already satisfied: orjson<4.0.0,>=3.9.14 in /usr/local/lib/python3.11/dist-packages (from langsmith<0.4,>=0.1.125->langchain-core<1.0.0,>=0.3.49->langchain-mistralai) (3.10.16)\n",
            "Requirement already satisfied: requests-toolbelt<2.0.0,>=1.0.0 in /usr/local/lib/python3.11/dist-packages (from langsmith<0.4,>=0.1.125->langchain-core<1.0.0,>=0.3.49->langchain-mistralai) (1.0.0)\n",
            "Requirement already satisfied: zstandard<0.24.0,>=0.23.0 in /usr/local/lib/python3.11/dist-packages (from langsmith<0.4,>=0.1.125->langchain-core<1.0.0,>=0.3.49->langchain-mistralai) (0.23.0)\n",
            "Requirement already satisfied: sniffio>=1.1 in /usr/local/lib/python3.11/dist-packages (from anyio->httpx<1,>=0.25.2->langchain-mistralai) (1.3.1)\n",
            "Requirement already satisfied: charset-normalizer<4,>=2 in /usr/local/lib/python3.11/dist-packages (from requests->huggingface-hub<1.0,>=0.16.4->tokenizers<1,>=0.15.1->langchain-mistralai) (3.4.1)\n",
            "Requirement already satisfied: urllib3<3,>=1.21.1 in /usr/local/lib/python3.11/dist-packages (from requests->huggingface-hub<1.0,>=0.16.4->tokenizers<1,>=0.15.1->langchain-mistralai) (2.3.0)\n"
          ]
        }
      ]
    },
    {
      "cell_type": "code",
      "source": [
        "!pip install langchain-google-community"
      ],
      "metadata": {
        "colab": {
          "base_uri": "https://localhost:8080/"
        },
        "collapsed": true,
        "id": "3zqy0n2N9oFw",
        "outputId": "e1809dc2-ed7c-4cd1-e8a2-f907f72a7a1c"
      },
      "execution_count": 22,
      "outputs": [
        {
          "output_type": "stream",
          "name": "stdout",
          "text": [
            "Requirement already satisfied: langchain-google-community in /usr/local/lib/python3.11/dist-packages (2.0.7)\n",
            "Requirement already satisfied: google-api-core<3.0.0,>=2.24.1 in /usr/local/lib/python3.11/dist-packages (from langchain-google-community) (2.24.2)\n",
            "Requirement already satisfied: google-api-python-client<3.0.0,>=2.161.0 in /usr/local/lib/python3.11/dist-packages (from langchain-google-community) (2.164.0)\n",
            "Requirement already satisfied: google-cloud-core<3.0.0,>=2.4.2 in /usr/local/lib/python3.11/dist-packages (from langchain-google-community) (2.4.3)\n",
            "Requirement already satisfied: grpcio<2.0.0,>=1.70.0 in /usr/local/lib/python3.11/dist-packages (from langchain-google-community) (1.71.0)\n",
            "Requirement already satisfied: langchain-community<0.4.0,>=0.3.0 in /usr/local/lib/python3.11/dist-packages (from langchain-google-community) (0.3.21)\n",
            "Requirement already satisfied: langchain-core<0.4,>=0.3.0 in /usr/local/lib/python3.11/dist-packages (from langchain-google-community) (0.3.51)\n",
            "Requirement already satisfied: googleapis-common-protos<2.0.0,>=1.56.2 in /usr/local/lib/python3.11/dist-packages (from google-api-core<3.0.0,>=2.24.1->langchain-google-community) (1.69.2)\n",
            "Requirement already satisfied: protobuf!=3.20.0,!=3.20.1,!=4.21.0,!=4.21.1,!=4.21.2,!=4.21.3,!=4.21.4,!=4.21.5,<7.0.0,>=3.19.5 in /usr/local/lib/python3.11/dist-packages (from google-api-core<3.0.0,>=2.24.1->langchain-google-community) (5.29.4)\n",
            "Requirement already satisfied: proto-plus<2.0.0,>=1.22.3 in /usr/local/lib/python3.11/dist-packages (from google-api-core<3.0.0,>=2.24.1->langchain-google-community) (1.26.1)\n",
            "Requirement already satisfied: google-auth<3.0.0,>=2.14.1 in /usr/local/lib/python3.11/dist-packages (from google-api-core<3.0.0,>=2.24.1->langchain-google-community) (2.38.0)\n",
            "Requirement already satisfied: requests<3.0.0,>=2.18.0 in /usr/local/lib/python3.11/dist-packages (from google-api-core<3.0.0,>=2.24.1->langchain-google-community) (2.32.3)\n",
            "Requirement already satisfied: httplib2<1.dev0,>=0.19.0 in /usr/local/lib/python3.11/dist-packages (from google-api-python-client<3.0.0,>=2.161.0->langchain-google-community) (0.22.0)\n",
            "Requirement already satisfied: google-auth-httplib2<1.0.0,>=0.2.0 in /usr/local/lib/python3.11/dist-packages (from google-api-python-client<3.0.0,>=2.161.0->langchain-google-community) (0.2.0)\n",
            "Requirement already satisfied: uritemplate<5,>=3.0.1 in /usr/local/lib/python3.11/dist-packages (from google-api-python-client<3.0.0,>=2.161.0->langchain-google-community) (4.1.1)\n",
            "Requirement already satisfied: langchain<1.0.0,>=0.3.23 in /usr/local/lib/python3.11/dist-packages (from langchain-community<0.4.0,>=0.3.0->langchain-google-community) (0.3.23)\n",
            "Requirement already satisfied: SQLAlchemy<3,>=1.4 in /usr/local/lib/python3.11/dist-packages (from langchain-community<0.4.0,>=0.3.0->langchain-google-community) (2.0.40)\n",
            "Requirement already satisfied: PyYAML>=5.3 in /usr/local/lib/python3.11/dist-packages (from langchain-community<0.4.0,>=0.3.0->langchain-google-community) (6.0.2)\n",
            "Requirement already satisfied: aiohttp<4.0.0,>=3.8.3 in /usr/local/lib/python3.11/dist-packages (from langchain-community<0.4.0,>=0.3.0->langchain-google-community) (3.11.15)\n",
            "Requirement already satisfied: tenacity!=8.4.0,<10,>=8.1.0 in /usr/local/lib/python3.11/dist-packages (from langchain-community<0.4.0,>=0.3.0->langchain-google-community) (9.1.2)\n",
            "Requirement already satisfied: dataclasses-json<0.7,>=0.5.7 in /usr/local/lib/python3.11/dist-packages (from langchain-community<0.4.0,>=0.3.0->langchain-google-community) (0.6.7)\n",
            "Requirement already satisfied: pydantic-settings<3.0.0,>=2.4.0 in /usr/local/lib/python3.11/dist-packages (from langchain-community<0.4.0,>=0.3.0->langchain-google-community) (2.8.1)\n",
            "Requirement already satisfied: langsmith<0.4,>=0.1.125 in /usr/local/lib/python3.11/dist-packages (from langchain-community<0.4.0,>=0.3.0->langchain-google-community) (0.3.23)\n",
            "Requirement already satisfied: httpx-sse<1.0.0,>=0.4.0 in /usr/local/lib/python3.11/dist-packages (from langchain-community<0.4.0,>=0.3.0->langchain-google-community) (0.4.0)\n",
            "Requirement already satisfied: numpy<3,>=1.26.2 in /usr/local/lib/python3.11/dist-packages (from langchain-community<0.4.0,>=0.3.0->langchain-google-community) (2.0.2)\n",
            "Requirement already satisfied: jsonpatch<2.0,>=1.33 in /usr/local/lib/python3.11/dist-packages (from langchain-core<0.4,>=0.3.0->langchain-google-community) (1.33)\n",
            "Requirement already satisfied: packaging<25,>=23.2 in /usr/local/lib/python3.11/dist-packages (from langchain-core<0.4,>=0.3.0->langchain-google-community) (24.2)\n",
            "Requirement already satisfied: typing-extensions>=4.7 in /usr/local/lib/python3.11/dist-packages (from langchain-core<0.4,>=0.3.0->langchain-google-community) (4.13.1)\n",
            "Requirement already satisfied: pydantic<3.0.0,>=2.5.2 in /usr/local/lib/python3.11/dist-packages (from langchain-core<0.4,>=0.3.0->langchain-google-community) (2.11.2)\n",
            "Requirement already satisfied: aiohappyeyeballs>=2.3.0 in /usr/local/lib/python3.11/dist-packages (from aiohttp<4.0.0,>=3.8.3->langchain-community<0.4.0,>=0.3.0->langchain-google-community) (2.6.1)\n",
            "Requirement already satisfied: aiosignal>=1.1.2 in /usr/local/lib/python3.11/dist-packages (from aiohttp<4.0.0,>=3.8.3->langchain-community<0.4.0,>=0.3.0->langchain-google-community) (1.3.2)\n",
            "Requirement already satisfied: attrs>=17.3.0 in /usr/local/lib/python3.11/dist-packages (from aiohttp<4.0.0,>=3.8.3->langchain-community<0.4.0,>=0.3.0->langchain-google-community) (25.3.0)\n",
            "Requirement already satisfied: frozenlist>=1.1.1 in /usr/local/lib/python3.11/dist-packages (from aiohttp<4.0.0,>=3.8.3->langchain-community<0.4.0,>=0.3.0->langchain-google-community) (1.5.0)\n",
            "Requirement already satisfied: multidict<7.0,>=4.5 in /usr/local/lib/python3.11/dist-packages (from aiohttp<4.0.0,>=3.8.3->langchain-community<0.4.0,>=0.3.0->langchain-google-community) (6.2.0)\n",
            "Requirement already satisfied: propcache>=0.2.0 in /usr/local/lib/python3.11/dist-packages (from aiohttp<4.0.0,>=3.8.3->langchain-community<0.4.0,>=0.3.0->langchain-google-community) (0.3.1)\n",
            "Requirement already satisfied: yarl<2.0,>=1.17.0 in /usr/local/lib/python3.11/dist-packages (from aiohttp<4.0.0,>=3.8.3->langchain-community<0.4.0,>=0.3.0->langchain-google-community) (1.18.3)\n",
            "Requirement already satisfied: marshmallow<4.0.0,>=3.18.0 in /usr/local/lib/python3.11/dist-packages (from dataclasses-json<0.7,>=0.5.7->langchain-community<0.4.0,>=0.3.0->langchain-google-community) (3.26.1)\n",
            "Requirement already satisfied: typing-inspect<1,>=0.4.0 in /usr/local/lib/python3.11/dist-packages (from dataclasses-json<0.7,>=0.5.7->langchain-community<0.4.0,>=0.3.0->langchain-google-community) (0.9.0)\n",
            "Requirement already satisfied: cachetools<6.0,>=2.0.0 in /usr/local/lib/python3.11/dist-packages (from google-auth<3.0.0,>=2.14.1->google-api-core<3.0.0,>=2.24.1->langchain-google-community) (5.5.2)\n",
            "Requirement already satisfied: pyasn1-modules>=0.2.1 in /usr/local/lib/python3.11/dist-packages (from google-auth<3.0.0,>=2.14.1->google-api-core<3.0.0,>=2.24.1->langchain-google-community) (0.4.2)\n",
            "Requirement already satisfied: rsa<5,>=3.1.4 in /usr/local/lib/python3.11/dist-packages (from google-auth<3.0.0,>=2.14.1->google-api-core<3.0.0,>=2.24.1->langchain-google-community) (4.9)\n",
            "Requirement already satisfied: pyparsing!=3.0.0,!=3.0.1,!=3.0.2,!=3.0.3,<4,>=2.4.2 in /usr/local/lib/python3.11/dist-packages (from httplib2<1.dev0,>=0.19.0->google-api-python-client<3.0.0,>=2.161.0->langchain-google-community) (3.2.3)\n",
            "Requirement already satisfied: jsonpointer>=1.9 in /usr/local/lib/python3.11/dist-packages (from jsonpatch<2.0,>=1.33->langchain-core<0.4,>=0.3.0->langchain-google-community) (3.0.0)\n",
            "Requirement already satisfied: langchain-text-splitters<1.0.0,>=0.3.8 in /usr/local/lib/python3.11/dist-packages (from langchain<1.0.0,>=0.3.23->langchain-community<0.4.0,>=0.3.0->langchain-google-community) (0.3.8)\n",
            "Requirement already satisfied: httpx<1,>=0.23.0 in /usr/local/lib/python3.11/dist-packages (from langsmith<0.4,>=0.1.125->langchain-community<0.4.0,>=0.3.0->langchain-google-community) (0.28.1)\n",
            "Requirement already satisfied: orjson<4.0.0,>=3.9.14 in /usr/local/lib/python3.11/dist-packages (from langsmith<0.4,>=0.1.125->langchain-community<0.4.0,>=0.3.0->langchain-google-community) (3.10.16)\n",
            "Requirement already satisfied: requests-toolbelt<2.0.0,>=1.0.0 in /usr/local/lib/python3.11/dist-packages (from langsmith<0.4,>=0.1.125->langchain-community<0.4.0,>=0.3.0->langchain-google-community) (1.0.0)\n",
            "Requirement already satisfied: zstandard<0.24.0,>=0.23.0 in /usr/local/lib/python3.11/dist-packages (from langsmith<0.4,>=0.1.125->langchain-community<0.4.0,>=0.3.0->langchain-google-community) (0.23.0)\n",
            "Requirement already satisfied: annotated-types>=0.6.0 in /usr/local/lib/python3.11/dist-packages (from pydantic<3.0.0,>=2.5.2->langchain-core<0.4,>=0.3.0->langchain-google-community) (0.7.0)\n",
            "Requirement already satisfied: pydantic-core==2.33.1 in /usr/local/lib/python3.11/dist-packages (from pydantic<3.0.0,>=2.5.2->langchain-core<0.4,>=0.3.0->langchain-google-community) (2.33.1)\n",
            "Requirement already satisfied: typing-inspection>=0.4.0 in /usr/local/lib/python3.11/dist-packages (from pydantic<3.0.0,>=2.5.2->langchain-core<0.4,>=0.3.0->langchain-google-community) (0.4.0)\n",
            "Requirement already satisfied: python-dotenv>=0.21.0 in /usr/local/lib/python3.11/dist-packages (from pydantic-settings<3.0.0,>=2.4.0->langchain-community<0.4.0,>=0.3.0->langchain-google-community) (1.1.0)\n",
            "Requirement already satisfied: charset-normalizer<4,>=2 in /usr/local/lib/python3.11/dist-packages (from requests<3.0.0,>=2.18.0->google-api-core<3.0.0,>=2.24.1->langchain-google-community) (3.4.1)\n",
            "Requirement already satisfied: idna<4,>=2.5 in /usr/local/lib/python3.11/dist-packages (from requests<3.0.0,>=2.18.0->google-api-core<3.0.0,>=2.24.1->langchain-google-community) (3.10)\n",
            "Requirement already satisfied: urllib3<3,>=1.21.1 in /usr/local/lib/python3.11/dist-packages (from requests<3.0.0,>=2.18.0->google-api-core<3.0.0,>=2.24.1->langchain-google-community) (2.3.0)\n",
            "Requirement already satisfied: certifi>=2017.4.17 in /usr/local/lib/python3.11/dist-packages (from requests<3.0.0,>=2.18.0->google-api-core<3.0.0,>=2.24.1->langchain-google-community) (2025.1.31)\n",
            "Requirement already satisfied: greenlet>=1 in /usr/local/lib/python3.11/dist-packages (from SQLAlchemy<3,>=1.4->langchain-community<0.4.0,>=0.3.0->langchain-google-community) (3.1.1)\n",
            "Requirement already satisfied: anyio in /usr/local/lib/python3.11/dist-packages (from httpx<1,>=0.23.0->langsmith<0.4,>=0.1.125->langchain-community<0.4.0,>=0.3.0->langchain-google-community) (4.9.0)\n",
            "Requirement already satisfied: httpcore==1.* in /usr/local/lib/python3.11/dist-packages (from httpx<1,>=0.23.0->langsmith<0.4,>=0.1.125->langchain-community<0.4.0,>=0.3.0->langchain-google-community) (1.0.7)\n",
            "Requirement already satisfied: h11<0.15,>=0.13 in /usr/local/lib/python3.11/dist-packages (from httpcore==1.*->httpx<1,>=0.23.0->langsmith<0.4,>=0.1.125->langchain-community<0.4.0,>=0.3.0->langchain-google-community) (0.14.0)\n",
            "Requirement already satisfied: pyasn1<0.7.0,>=0.6.1 in /usr/local/lib/python3.11/dist-packages (from pyasn1-modules>=0.2.1->google-auth<3.0.0,>=2.14.1->google-api-core<3.0.0,>=2.24.1->langchain-google-community) (0.6.1)\n",
            "Requirement already satisfied: mypy-extensions>=0.3.0 in /usr/local/lib/python3.11/dist-packages (from typing-inspect<1,>=0.4.0->dataclasses-json<0.7,>=0.5.7->langchain-community<0.4.0,>=0.3.0->langchain-google-community) (1.0.0)\n",
            "Requirement already satisfied: sniffio>=1.1 in /usr/local/lib/python3.11/dist-packages (from anyio->httpx<1,>=0.23.0->langsmith<0.4,>=0.1.125->langchain-community<0.4.0,>=0.3.0->langchain-google-community) (1.3.1)\n"
          ]
        }
      ]
    },
    {
      "cell_type": "code",
      "source": [
        "from langchain_mistralai.chat_models import ChatMistralAI"
      ],
      "metadata": {
        "id": "or8rpWsTyu_u"
      },
      "execution_count": 23,
      "outputs": []
    },
    {
      "cell_type": "code",
      "source": [
        "from langchain.vectorstores import Chroma"
      ],
      "metadata": {
        "id": "QwIGmBj_1DlW"
      },
      "execution_count": 24,
      "outputs": []
    },
    {
      "cell_type": "code",
      "source": [
        "from google.colab import userdata"
      ],
      "metadata": {
        "id": "BC6kmG111m2e"
      },
      "execution_count": 25,
      "outputs": []
    },
    {
      "cell_type": "code",
      "source": [
        "from langchain_core.prompts import ChatPromptTemplate\n",
        "from langchain.chains import create_retrieval_chain"
      ],
      "metadata": {
        "id": "lIBrnFif11Y2"
      },
      "execution_count": 26,
      "outputs": []
    },
    {
      "cell_type": "code",
      "source": [
        "from langchain.chains.combine_documents import create_stuff_documents_chain"
      ],
      "metadata": {
        "id": "lA1q9XHi2HrO"
      },
      "execution_count": 27,
      "outputs": []
    },
    {
      "cell_type": "code",
      "source": [
        "from langchain_google_community import GoogleSearchAPIWrapper"
      ],
      "metadata": {
        "id": "HKU2Mcrj9SKw"
      },
      "execution_count": 28,
      "outputs": []
    },
    {
      "cell_type": "code",
      "source": [
        "import json\n",
        "from google.oauth2 import service_account\n",
        "from googleapiclient.discovery import build"
      ],
      "metadata": {
        "id": "EmKRPN9kTQDI"
      },
      "execution_count": 29,
      "outputs": []
    },
    {
      "cell_type": "code",
      "source": [
        "import re\n",
        "from datetime import datetime, timedelta"
      ],
      "metadata": {
        "id": "PY4oVU0vtsZR"
      },
      "execution_count": 30,
      "outputs": []
    },
    {
      "cell_type": "code",
      "source": [
        "import time"
      ],
      "metadata": {
        "id": "oGhtXMpB8FMQ"
      },
      "execution_count": 31,
      "outputs": []
    },
    {
      "cell_type": "markdown",
      "source": [
        "## Building the LLM with RAG\n",
        "\n"
      ],
      "metadata": {
        "id": "kUbACbADBeVE"
      }
    },
    {
      "cell_type": "code",
      "source": [
        "# Create the vector store\n",
        "db = Chroma(client=chroma_client, embedding_function=embeddings_model, collection_name=\"emails\")"
      ],
      "metadata": {
        "colab": {
          "base_uri": "https://localhost:8080/"
        },
        "id": "qfO2bsV208Ll",
        "outputId": "ecf3d5bb-99e4-4ddf-c5c4-24802f3ce890"
      },
      "execution_count": 32,
      "outputs": [
        {
          "output_type": "stream",
          "name": "stderr",
          "text": [
            "<ipython-input-32-e86f8ed11573>:2: LangChainDeprecationWarning: The class `Chroma` was deprecated in LangChain 0.2.9 and will be removed in 1.0. An updated version of the class exists in the :class:`~langchain-chroma package and should be used instead. To use it run `pip install -U :class:`~langchain-chroma` and import as `from :class:`~langchain_chroma import Chroma``.\n",
            "  db = Chroma(client=chroma_client, embedding_function=embeddings_model, collection_name=\"emails\")\n"
          ]
        }
      ]
    },
    {
      "cell_type": "code",
      "source": [
        "# Define a retriever interface\n",
        "retriever = db.as_retriever()"
      ],
      "metadata": {
        "id": "gjsiCshV0sy8"
      },
      "execution_count": 33,
      "outputs": []
    },
    {
      "cell_type": "code",
      "source": [
        "api_key = userdata.get('MISTRAL_API_KEY')"
      ],
      "metadata": {
        "id": "2bztQaOw1jZt"
      },
      "execution_count": 34,
      "outputs": []
    },
    {
      "cell_type": "code",
      "source": [
        "# Define LLM\n",
        "\n",
        "model = ChatMistralAI(mistral_api_key=api_key)"
      ],
      "metadata": {
        "id": "Yj8UQYc51IPt"
      },
      "execution_count": 35,
      "outputs": []
    },
    {
      "cell_type": "code",
      "source": [
        "# Define prompt template\n",
        "\n",
        "prompt = ChatPromptTemplate.from_template(\"\"\"Answer the following question based only on the provided context:\n",
        "\n",
        "<context>\n",
        "{context}\n",
        "</context>\n",
        "\n",
        "Question: {input}\"\"\")"
      ],
      "metadata": {
        "id": "mCav2ryx1xOk"
      },
      "execution_count": 36,
      "outputs": []
    },
    {
      "cell_type": "code",
      "source": [
        "# Create a retrieval chain to answer questions\n",
        "document_chain = create_stuff_documents_chain(model, prompt)\n",
        "retrieval_chain = create_retrieval_chain(retriever, document_chain)"
      ],
      "metadata": {
        "id": "qxjEVdYd12in"
      },
      "execution_count": 37,
      "outputs": []
    },
    {
      "cell_type": "code",
      "source": [
        "google_search = GoogleSearchAPIWrapper(\n",
        "    google_api_key=userdata.get(\"GOOGLE_API_KEY\"),\n",
        "    google_cse_id=userdata.get(\"GOOGLE_CSE_ID\")\n",
        ")"
      ],
      "metadata": {
        "id": "sGE_Soz59XBO"
      },
      "execution_count": 38,
      "outputs": []
    },
    {
      "cell_type": "code",
      "source": [
        "last_llm_response_time = 0\n",
        "COOLDOWN_SECONDS = 5"
      ],
      "metadata": {
        "id": "MNWJoonr7-9J"
      },
      "execution_count": 39,
      "outputs": []
    },
    {
      "cell_type": "markdown",
      "source": [
        "## LLM response filtering functions!"
      ],
      "metadata": {
        "id": "wMzL_b4J57Ik"
      }
    },
    {
      "cell_type": "code",
      "source": [
        "def draft_and_send_slack_message(user_query):\n",
        "    \"\"\"\n",
        "    Uses the LLM to draft a Slack message and sends it via the Flask Slack API.\n",
        "    \"\"\"\n",
        "    draft_slack_prompt = ChatPromptTemplate.from_template(\n",
        "        \"\"\"\n",
        "        Draft a professional Slack message based on the user's request.\n",
        "\n",
        "        Request: {user_query}\n",
        "\n",
        "        Slack Message:\n",
        "        \"\"\"\n",
        "    )\n",
        "\n",
        "    formatted_prompt = draft_slack_prompt.format(user_query=user_query)\n",
        "    result = model.invoke(formatted_prompt)\n",
        "\n",
        "    slack_message = result.content.strip()\n",
        "\n",
        "    try:\n",
        "        response = requests.post(\n",
        "            f\"{BASE_SERVER_URL}/send_slack_message\",\n",
        "            json={\"message\": slack_message}\n",
        "        )\n",
        "        if response.status_code == 200:\n",
        "            return \"Slack message sent successfully!\"\n",
        "        else:\n",
        "            return f\"Slack API error: {response.status_code} - {response.text}\"\n",
        "    except Exception as e:\n",
        "        return f\"Error calling Slack API: {str(e)}\""
      ],
      "metadata": {
        "id": "aRVF_LpB1RL3"
      },
      "execution_count": 40,
      "outputs": []
    },
    {
      "cell_type": "code",
      "source": [
        "def draft_and_send_email(user_query):\n",
        "    \"\"\"\n",
        "    Drafts a professional email using LLM and sends it via API.\n",
        "    \"\"\"\n",
        "    draft_email_prompt = ChatPromptTemplate.from_template(\n",
        "        \"\"\"\n",
        "        Draft a professional email based on the user's request.\n",
        "        Include subject, recipient (if mentioned), and body.\n",
        "\n",
        "        Request: {user_query}\n",
        "\n",
        "        Email (format as JSON with 'to', 'subject', 'body'):\n",
        "        \"\"\"\n",
        "    )\n",
        "\n",
        "    formatted_prompt = draft_email_prompt.format(user_query=user_query)\n",
        "    result = model.invoke(formatted_prompt)\n",
        "\n",
        "    try:\n",
        "        email_json = json.loads(result.content)\n",
        "    except Exception as e:\n",
        "        return f\"Error parsing drafted email: {e}\"\n",
        "\n",
        "    response = requests.post(\n",
        "        f\"{BASE_SERVER_URL}/send_email\",\n",
        "        json=email_json\n",
        "    )\n",
        "\n",
        "    return f\"Email sent! Server response: {response.text}\"\n"
      ],
      "metadata": {
        "id": "_kz-EV2330dt"
      },
      "execution_count": 41,
      "outputs": []
    },
    {
      "cell_type": "code",
      "source": [
        "def rag_query_with_web_search(user_query):\n",
        "    \"\"\"\n",
        "    Handles user query with RAG. If it's about Slack, it sends via API. Otherwise answers from email context or falls back to web.\n",
        "    \"\"\"\n",
        "\n",
        "    global last_llm_response_time\n",
        "\n",
        "    now = time.time()\n",
        "    if now - last_llm_response_time < COOLDOWN_SECONDS:\n",
        "        wait_time = round(COOLDOWN_SECONDS - (now - last_llm_response_time), 1)\n",
        "        return f\"Please wait {wait_time} more second(s) before asking again to avoid rate limits.\"\n",
        "\n",
        "    last_llm_response_time = now\n",
        "\n",
        "    # making slack message\n",
        "    if user_query.lower().startswith(\"draft a message on slack\") or user_query.lower().startswith(\"draft a slack message\"):\n",
        "        return draft_and_send_slack_message(user_query)\n",
        "\n",
        "    # making email\n",
        "    if user_query.lower().startswith(\"draft an email\"):\n",
        "        return draft_and_send_email(user_query)\n",
        "\n",
        "    response = retrieval_chain.invoke({\"input\": user_query})\n",
        "    answer = response.get(\"answer\", \"\").strip()\n",
        "\n",
        "    needs_web_search = (\n",
        "        not answer\n",
        "        or answer.lower().startswith(\"the email does not provide enough context to determine\")\n",
        "        or answer.lower().startswith(\"the context does not provide information\")\n",
        "        or answer.lower().startswith(\"the context provided does not contain\")\n",
        "        or answer.lower().startswith(\"the context provided does not specify\")\n",
        "        or answer.lower().startswith(\"the provided context does not contain\")\n",
        "        or \"does not provide enough context\" in answer.lower()\n",
        "        or \"i don't know\" in answer.lower()\n",
        "        or \"no relevant information\" in answer.lower()\n",
        "    )\n",
        "\n",
        "    if needs_web_search:\n",
        "        print(\"Couldn't find in emails. Hence, searching the Web...\")\n",
        "        search_result = google_search.run(user_query)\n",
        "\n",
        "        web_prompt = ChatPromptTemplate.from_template(\n",
        "            \"\"\"\n",
        "            Use the following web result context to answer the user's question.\n",
        "\n",
        "            Web result:\n",
        "            <context>\n",
        "            {search_result}\n",
        "            </context>\n",
        "\n",
        "            Question: {user_query}\n",
        "\n",
        "            Answer:\n",
        "            \"\"\"\n",
        "        )\n",
        "\n",
        "        web_chain = web_prompt | model\n",
        "        result = web_chain.invoke({\"search_result\": search_result, \"user_query\": user_query})\n",
        "        answer = result.content if hasattr(result, \"content\") else str(result)\n",
        "\n",
        "    return answer"
      ],
      "metadata": {
        "id": "Cje0Sg9g9-Be"
      },
      "execution_count": 42,
      "outputs": []
    },
    {
      "cell_type": "code",
      "source": [
        "def check_and_notify_slack(llm_response):\n",
        "    \"\"\"\n",
        "    Detects urgency from LLM response and sends important info to Slack via API.\n",
        "    \"\"\"\n",
        "    pattern = r\"\\byes\\b.*\\b(urgent|important)\\b.*\\b(email|meeting)s?\\b\"\n",
        "\n",
        "    if re.search(pattern, llm_response, re.IGNORECASE):\n",
        "        # print(\"Urgent message detected in LLM response.\")\n",
        "\n",
        "        subject_patterns = [\n",
        "            r\"subject\\s*:\\s*['\\\"]?(.*?)(?=['\\\"\\n\\r]|$)\",\n",
        "            r\"subject\\s+is\\s+['\\\"]?(.*?)(?=['\\\"\\n\\r]|$)\",\n",
        "            r\"['\\\"]?(URGENT[^'\\\"]*)['\\\"]?\"\n",
        "        ]\n",
        "\n",
        "        subject = None\n",
        "        for pat in subject_patterns:\n",
        "            match = re.search(pat, llm_response, re.IGNORECASE)\n",
        "            if match:\n",
        "                subject = match.group(1).strip()\n",
        "                break\n",
        "\n",
        "        if not subject:\n",
        "            subject = \"An important message needs attention.\"\n",
        "\n",
        "        slack_message = f\"From Head Office - {subject}\"\n",
        "\n",
        "        # Send to your Flask API\n",
        "        try:\n",
        "            response = requests.post(\n",
        "                f\"{BASE_SERVER_URL}/send_slack_message\",\n",
        "                json={\"message\": slack_message}\n",
        "            )\n",
        "            if response.status_code == 200:\n",
        "                print(\"Slack message sent successfully.\")\n",
        "                return True\n",
        "            else:\n",
        "                print(\"Slack API responded with:\", response.status_code, response.text)\n",
        "        except Exception as e:\n",
        "            print(\"Error while calling Slack API:\", str(e))\n",
        "\n",
        "    return False"
      ],
      "metadata": {
        "id": "lgmrj1xL2wgO"
      },
      "execution_count": 43,
      "outputs": []
    },
    {
      "cell_type": "code",
      "source": [
        "def detect_meeting_intent(text):\n",
        "    \"\"\"\n",
        "    Detects if there are any meetings in the response.\n",
        "    \"\"\"\n",
        "\n",
        "    subject_match = re.search(r'subject\\s+\"([^\"]+)\"', text, re.IGNORECASE)\n",
        "    summary = subject_match.group(1) if subject_match else \"Meeting\"\n",
        "\n",
        "    pattern = re.compile(\n",
        "        r\"(?P<month>\\w+)\\s+(?P<day>\\d{1,2})(?:st|nd|rd|th)?\\s+at\\s+\"\n",
        "        r\"(?P<start_hour>\\d{1,2}:\\d{2})\\s*(?P<start_ampm>AM|PM)\"\n",
        "        r\"(?:\\s*to\\s*(?P<end_hour>\\d{1,2}:\\d{2})\\s*(?P<end_ampm>AM|PM))?\",\n",
        "        re.IGNORECASE\n",
        "    )\n",
        "\n",
        "    match = pattern.search(text)\n",
        "    if not match:\n",
        "        return None\n",
        "\n",
        "    data = match.groupdict()\n",
        "\n",
        "    # Use static year for now\n",
        "    date_str = f\"{data['month']} {data['day']} 2025\"\n",
        "    try:\n",
        "        date = datetime.strptime(date_str, \"%B %d %Y\")\n",
        "    except Exception as e:\n",
        "        return None\n",
        "\n",
        "    # Start time\n",
        "    start_time_str = f\"{data['start_hour']} {data['start_ampm']}\"\n",
        "    start_time = datetime.strptime(start_time_str, \"%I:%M %p\")\n",
        "    start = date.replace(hour=start_time.hour, minute=start_time.minute)\n",
        "\n",
        "    # End time (if exists)\n",
        "    if data[\"end_hour\"] and data[\"end_ampm\"]:\n",
        "        end_time_str = f\"{data['end_hour']} {data['end_ampm']}\"\n",
        "        end_time = datetime.strptime(end_time_str, \"%I:%M %p\")\n",
        "        end = date.replace(hour=end_time.hour, minute=end_time.minute)\n",
        "    else:\n",
        "        end = start + timedelta(minutes=30)\n",
        "\n",
        "    event = {\n",
        "        \"summary\": summary,\n",
        "        \"start\": start.strftime(\"%Y-%m-%dT%H:%M:%S\"),\n",
        "        \"end\": end.strftime(\"%Y-%m-%dT%H:%M:%S\")\n",
        "    }\n",
        "\n",
        "    return event"
      ],
      "metadata": {
        "id": "tcf8ZcnpTTrG"
      },
      "execution_count": 44,
      "outputs": []
    },
    {
      "cell_type": "code",
      "source": [
        "def create_calendar_event(event_details):\n",
        "\n",
        "  \"\"\"\n",
        "  It schedules meetings on the google calendar using its api and credentials.\n",
        "  For this to work, credentials should be uploaded to colab\n",
        "  \"\"\"\n",
        "\n",
        "  with open(\"/content/calendar_credentials.json\") as f:\n",
        "      service_account_info = json.load(f)\n",
        "\n",
        "  creds = service_account.Credentials.from_service_account_info(\n",
        "      service_account_info,\n",
        "      scopes = ['https://www.googleapis.com/auth/calendar']\n",
        "  )\n",
        "  service = build('calendar','v3', credentials=creds)\n",
        "\n",
        "  event = {\n",
        "      \"summary\":event_details[\"summary\"],\n",
        "      \"start\":{\n",
        "          \"dateTime\":event_details[\"start\"],\n",
        "          \"timeZone\":\"Asia/Kolkata\"\n",
        "      },\n",
        "      \"end\":{\n",
        "          \"dateTime\":event_details[\"end\"],\n",
        "          \"timeZone\":\"Asia/Kolkata\"\n",
        "      }\n",
        "  }\n",
        "\n",
        "  result = service.events().insert(calendarId=\"pathakdeo24@gmail.com\", body=event).execute()\n",
        "  return result.get(\"htmlLink\")\n",
        ""
      ],
      "metadata": {
        "id": "LkEP9KQTXppc"
      },
      "execution_count": 45,
      "outputs": []
    },
    {
      "cell_type": "code",
      "source": [
        "def send_confirmation_email(recipient_email, subject, body):\n",
        "  \"\"\"\n",
        "  This will send confirmation email to the sender who wants to schedule meetings\n",
        "  \"\"\"\n",
        "\n",
        "  try:\n",
        "        response = requests.post(\n",
        "            f\"{BASE_SERVER_URL}/send_email\",\n",
        "            json={\n",
        "                \"to\": recipient_email,\n",
        "                \"subject\": subject,\n",
        "                \"message\": body\n",
        "            }\n",
        "        )\n",
        "        response.raise_for_status()\n",
        "        print(\"Confirmation email sent!\")\n",
        "  except Exception as e:\n",
        "        print(f\"Failed to send confirmation email: {e}\")"
      ],
      "metadata": {
        "id": "UvukWP9_jJNr"
      },
      "execution_count": 46,
      "outputs": []
    },
    {
      "cell_type": "code",
      "source": [
        "def handle_query(user_query):\n",
        "  answer = rag_query_with_web_search(user_query)\n",
        "\n",
        "  check_and_notify_slack(answer)\n",
        "\n",
        "  meeting = detect_meeting_intent(answer)\n",
        "  if meeting:\n",
        "      link = create_calendar_event(meeting)\n",
        "      answer += f\"\\n\\nMeeting added to your calendar: [View Event]({link})\"\n",
        "\n",
        "      match = re.search(r\"[a-zA-Z0-9._%+-]+@gmail\\.com\", answer)\n",
        "      recipient = match.group(0) if match else \"pathakdeo11@gmail.com\"\n",
        "\n",
        "      subject = f\"Meeting Confirmation: {meeting['summary']}\"\n",
        "      message = f\"Hi,\\n\\nYour meeting has been confirmed for {meeting['start']}.\\n\\nRegards,\\nAI Assistant\"\n",
        "      send_confirmation_email(recipient, subject, message)\n",
        "\n",
        "  return answer"
      ],
      "metadata": {
        "id": "SrHAuQLkY8-2"
      },
      "execution_count": 47,
      "outputs": []
    },
    {
      "cell_type": "markdown",
      "source": [
        "# Setting up Flask to interact with Frontend"
      ],
      "metadata": {
        "id": "hLOeMQ0MRLYe"
      }
    },
    {
      "cell_type": "markdown",
      "source": [
        "## Installations\n"
      ],
      "metadata": {
        "id": "CJEykzUM6iFJ"
      }
    },
    {
      "cell_type": "code",
      "source": [
        "!pip install flask_ngrok"
      ],
      "metadata": {
        "colab": {
          "base_uri": "https://localhost:8080/"
        },
        "collapsed": true,
        "id": "fvV6Z0W5RPrP",
        "outputId": "c57c4a6b-801b-4ef1-983c-99c4796bdd51"
      },
      "execution_count": 48,
      "outputs": [
        {
          "output_type": "stream",
          "name": "stdout",
          "text": [
            "Requirement already satisfied: flask_ngrok in /usr/local/lib/python3.11/dist-packages (0.0.25)\n",
            "Requirement already satisfied: Flask>=0.8 in /usr/local/lib/python3.11/dist-packages (from flask_ngrok) (3.1.0)\n",
            "Requirement already satisfied: requests in /usr/local/lib/python3.11/dist-packages (from flask_ngrok) (2.32.3)\n",
            "Requirement already satisfied: Werkzeug>=3.1 in /usr/local/lib/python3.11/dist-packages (from Flask>=0.8->flask_ngrok) (3.1.3)\n",
            "Requirement already satisfied: Jinja2>=3.1.2 in /usr/local/lib/python3.11/dist-packages (from Flask>=0.8->flask_ngrok) (3.1.6)\n",
            "Requirement already satisfied: itsdangerous>=2.2 in /usr/local/lib/python3.11/dist-packages (from Flask>=0.8->flask_ngrok) (2.2.0)\n",
            "Requirement already satisfied: click>=8.1.3 in /usr/local/lib/python3.11/dist-packages (from Flask>=0.8->flask_ngrok) (8.1.8)\n",
            "Requirement already satisfied: blinker>=1.9 in /usr/local/lib/python3.11/dist-packages (from Flask>=0.8->flask_ngrok) (1.9.0)\n",
            "Requirement already satisfied: charset-normalizer<4,>=2 in /usr/local/lib/python3.11/dist-packages (from requests->flask_ngrok) (3.4.1)\n",
            "Requirement already satisfied: idna<4,>=2.5 in /usr/local/lib/python3.11/dist-packages (from requests->flask_ngrok) (3.10)\n",
            "Requirement already satisfied: urllib3<3,>=1.21.1 in /usr/local/lib/python3.11/dist-packages (from requests->flask_ngrok) (2.3.0)\n",
            "Requirement already satisfied: certifi>=2017.4.17 in /usr/local/lib/python3.11/dist-packages (from requests->flask_ngrok) (2025.1.31)\n",
            "Requirement already satisfied: MarkupSafe>=2.0 in /usr/local/lib/python3.11/dist-packages (from Jinja2>=3.1.2->Flask>=0.8->flask_ngrok) (3.0.2)\n"
          ]
        }
      ]
    },
    {
      "cell_type": "code",
      "source": [
        "!pip install flask pyngrok"
      ],
      "metadata": {
        "colab": {
          "base_uri": "https://localhost:8080/"
        },
        "collapsed": true,
        "id": "05KM4ROmSuXH",
        "outputId": "2e8ae276-27ad-42e4-9cff-91b176ccc371"
      },
      "execution_count": 49,
      "outputs": [
        {
          "output_type": "stream",
          "name": "stdout",
          "text": [
            "Requirement already satisfied: flask in /usr/local/lib/python3.11/dist-packages (3.1.0)\n",
            "Requirement already satisfied: pyngrok in /usr/local/lib/python3.11/dist-packages (7.2.3)\n",
            "Requirement already satisfied: Werkzeug>=3.1 in /usr/local/lib/python3.11/dist-packages (from flask) (3.1.3)\n",
            "Requirement already satisfied: Jinja2>=3.1.2 in /usr/local/lib/python3.11/dist-packages (from flask) (3.1.6)\n",
            "Requirement already satisfied: itsdangerous>=2.2 in /usr/local/lib/python3.11/dist-packages (from flask) (2.2.0)\n",
            "Requirement already satisfied: click>=8.1.3 in /usr/local/lib/python3.11/dist-packages (from flask) (8.1.8)\n",
            "Requirement already satisfied: blinker>=1.9 in /usr/local/lib/python3.11/dist-packages (from flask) (1.9.0)\n",
            "Requirement already satisfied: PyYAML>=5.1 in /usr/local/lib/python3.11/dist-packages (from pyngrok) (6.0.2)\n",
            "Requirement already satisfied: MarkupSafe>=2.0 in /usr/local/lib/python3.11/dist-packages (from Jinja2>=3.1.2->flask) (3.0.2)\n"
          ]
        }
      ]
    },
    {
      "cell_type": "code",
      "source": [
        "!pip install flask-cors"
      ],
      "metadata": {
        "colab": {
          "base_uri": "https://localhost:8080/"
        },
        "collapsed": true,
        "id": "kPmsMZnWZsR0",
        "outputId": "12ee659d-3b1e-4301-93ca-3815d27ed1e6"
      },
      "execution_count": 50,
      "outputs": [
        {
          "output_type": "stream",
          "name": "stdout",
          "text": [
            "Requirement already satisfied: flask-cors in /usr/local/lib/python3.11/dist-packages (5.0.1)\n",
            "Requirement already satisfied: flask>=0.9 in /usr/local/lib/python3.11/dist-packages (from flask-cors) (3.1.0)\n",
            "Requirement already satisfied: Werkzeug>=0.7 in /usr/local/lib/python3.11/dist-packages (from flask-cors) (3.1.3)\n",
            "Requirement already satisfied: Jinja2>=3.1.2 in /usr/local/lib/python3.11/dist-packages (from flask>=0.9->flask-cors) (3.1.6)\n",
            "Requirement already satisfied: itsdangerous>=2.2 in /usr/local/lib/python3.11/dist-packages (from flask>=0.9->flask-cors) (2.2.0)\n",
            "Requirement already satisfied: click>=8.1.3 in /usr/local/lib/python3.11/dist-packages (from flask>=0.9->flask-cors) (8.1.8)\n",
            "Requirement already satisfied: blinker>=1.9 in /usr/local/lib/python3.11/dist-packages (from flask>=0.9->flask-cors) (1.9.0)\n",
            "Requirement already satisfied: MarkupSafe>=2.1.1 in /usr/local/lib/python3.11/dist-packages (from Werkzeug>=0.7->flask-cors) (3.0.2)\n"
          ]
        }
      ]
    },
    {
      "cell_type": "code",
      "source": [
        "from flask import Flask, request, jsonify\n",
        "from pyngrok import ngrok, conf\n",
        "from flask_cors import CORS"
      ],
      "metadata": {
        "id": "01v6iW4mRalu"
      },
      "execution_count": 51,
      "outputs": []
    },
    {
      "cell_type": "code",
      "source": [
        "conf.get_default().auth_token =  userdata.get(\"NGROK_TOKEN\")"
      ],
      "metadata": {
        "id": "1v4pTDOCUtdu"
      },
      "execution_count": 52,
      "outputs": []
    },
    {
      "cell_type": "markdown",
      "source": [
        "## Server"
      ],
      "metadata": {
        "id": "z8sDxsIx6qXl"
      }
    },
    {
      "cell_type": "code",
      "source": [
        "app = Flask(__name__)\n",
        "CORS(app)\n",
        "\n",
        "@app.route('/query', methods=['POST'])\n",
        "def query_llm():\n",
        "    data = request.get_json()\n",
        "    question = data.get('question', '')\n",
        "    response = handle_query(question)\n",
        "    return jsonify({'answer': response})\n",
        "\n",
        "public_url = ngrok.connect(5000)\n",
        "print(f\"Public URL: {public_url}\")\n",
        "\n",
        "app.run(port=5000)"
      ],
      "metadata": {
        "colab": {
          "base_uri": "https://localhost:8080/"
        },
        "id": "cHvXQnh_RzTA",
        "outputId": "ce732488-a1b9-4b5e-d40f-e23beb33b37a"
      },
      "execution_count": 53,
      "outputs": [
        {
          "output_type": "stream",
          "name": "stdout",
          "text": [
            "Public URL: NgrokTunnel: \"https://5dd0-35-196-68-55.ngrok-free.app\" -> \"http://localhost:5000\"\n",
            " * Serving Flask app '__main__'\n",
            " * Debug mode: off\n"
          ]
        },
        {
          "output_type": "stream",
          "name": "stderr",
          "text": [
            "INFO:werkzeug:\u001b[31m\u001b[1mWARNING: This is a development server. Do not use it in a production deployment. Use a production WSGI server instead.\u001b[0m\n",
            " * Running on http://127.0.0.1:5000\n",
            "INFO:werkzeug:\u001b[33mPress CTRL+C to quit\u001b[0m\n",
            "WARNING:pyngrok.process.ngrok:t=2025-04-07T21:09:04+0000 lvl=warn msg=\"failed to check for update\" obj=updater err=\"Post \\\"https://update.equinox.io/check\\\": context deadline exceeded\"\n",
            "INFO:werkzeug:127.0.0.1 - - [07/Apr/2025 21:11:19] \"OPTIONS /query HTTP/1.1\" 200 -\n",
            "INFO:werkzeug:127.0.0.1 - - [07/Apr/2025 21:11:21] \"POST /query HTTP/1.1\" 200 -\n",
            "INFO:werkzeug:127.0.0.1 - - [07/Apr/2025 21:12:16] \"OPTIONS /query HTTP/1.1\" 200 -\n",
            "INFO:werkzeug:127.0.0.1 - - [07/Apr/2025 21:12:17] \"POST /query HTTP/1.1\" 200 -\n",
            "INFO:werkzeug:127.0.0.1 - - [07/Apr/2025 21:12:51] \"OPTIONS /query HTTP/1.1\" 200 -\n",
            "INFO:werkzeug:127.0.0.1 - - [07/Apr/2025 21:12:52] \"POST /query HTTP/1.1\" 200 -\n",
            "INFO:werkzeug:127.0.0.1 - - [07/Apr/2025 21:14:21] \"OPTIONS /query HTTP/1.1\" 200 -\n",
            "INFO:werkzeug:127.0.0.1 - - [07/Apr/2025 21:14:22] \"POST /query HTTP/1.1\" 200 -\n",
            "INFO:werkzeug:127.0.0.1 - - [07/Apr/2025 21:15:10] \"OPTIONS /query HTTP/1.1\" 200 -\n",
            "INFO:werkzeug:127.0.0.1 - - [07/Apr/2025 21:15:14] \"POST /query HTTP/1.1\" 200 -\n"
          ]
        },
        {
          "output_type": "stream",
          "name": "stdout",
          "text": [
            "Slack message sent successfully.\n"
          ]
        }
      ]
    },
    {
      "cell_type": "markdown",
      "source": [
        "# Testing and scratch commands"
      ],
      "metadata": {
        "id": "0QyN5uTQ5Dwl"
      }
    },
    {
      "cell_type": "code",
      "source": [
        "# important_subject = \"Urgent: Payment failed for client XYZ\"\n",
        "# send_slack_message(important_subject)"
      ],
      "metadata": {
        "id": "3UiVdQAlwusK"
      },
      "execution_count": 54,
      "outputs": []
    },
    {
      "cell_type": "code",
      "source": [
        "# response = retrieval_chain.invoke({\"input\": \"Is there any upcoming meetings?\"})\n",
        "# print(response[\"answer\"])"
      ],
      "metadata": {
        "id": "HkdFOd052KDF"
      },
      "execution_count": 55,
      "outputs": []
    },
    {
      "cell_type": "code",
      "source": [
        "# response56 = rag_query_with_web_search(\"Draft a message on slack saying - urgent meeting with Perfect Solution Company \")\n",
        "# response56"
      ],
      "metadata": {
        "id": "w9c_y3rq0J3C"
      },
      "execution_count": 56,
      "outputs": []
    },
    {
      "cell_type": "code",
      "source": [
        "# response2 = rag_query_with_web_search(\"Which country requires gre exam for entrance?\")\n",
        "# print(response2)"
      ],
      "metadata": {
        "id": "MhrwkY-8CUj5"
      },
      "execution_count": 57,
      "outputs": []
    },
    {
      "cell_type": "code",
      "source": [
        "# url = \"https://6469-103-240-207-60.ngrok-free.app/send_email\"\n",
        "# payload = {\n",
        "#     \"to\": \"pathakdeo11@gmail.com\",\n",
        "#     \"subject\": \"Test from Colab\",\n",
        "#     \"message\": \"Hello! Just testing the POST request.\"\n",
        "# }\n",
        "\n",
        "# response = requests.post(url, json=payload)\n",
        "# print(response.status_code)\n",
        "# print(response.text)"
      ],
      "metadata": {
        "id": "inCcqmlUrGlP"
      },
      "execution_count": 58,
      "outputs": []
    },
    {
      "cell_type": "code",
      "source": [
        "# response4 = handle_query(\"what day is today?\")\n",
        "# response4"
      ],
      "metadata": {
        "id": "lxBBP5ggAgvc"
      },
      "execution_count": 59,
      "outputs": []
    },
    {
      "cell_type": "code",
      "source": [
        "# events = detect_meeting_intent(\"\"\"A follow-up meeting regarding Q2 targets requested by someone named Anita from the email with subject \"Follow-up Meeting Regarding Q2 Targets\". The suggested date and time for this meeting is Friday, April 24th at 4:30 PM to 6:30 PM, but it is expected to only take about 30 minutes.\"\"\")\n",
        "# print(events)"
      ],
      "metadata": {
        "id": "wlk9qbLIv16Y"
      },
      "execution_count": 60,
      "outputs": []
    },
    {
      "cell_type": "code",
      "source": [
        "# response42 = handle_query(\"is there any email with subject - URGENT: Account issue  - followed by some other words i dont remeber?\")\n",
        "# response42"
      ],
      "metadata": {
        "id": "t5DXrGiU5036"
      },
      "execution_count": 61,
      "outputs": []
    },
    {
      "cell_type": "code",
      "source": [
        "# response3 = handle_query(\"Can u add upcoming meetings to calendar?\")\n",
        "# print(response3)"
      ],
      "metadata": {
        "id": "T742hzKsZgdT"
      },
      "execution_count": 62,
      "outputs": []
    },
    {
      "cell_type": "code",
      "source": [
        "# create_calendar_event(events)"
      ],
      "metadata": {
        "id": "4aJkWOUjwHqr"
      },
      "execution_count": 63,
      "outputs": []
    },
    {
      "cell_type": "code",
      "source": [
        "# response241 = send_confirmation_email('pathakdeo11@gmail.com','Checking if function works!', 'Just testing if my function is working or not, if the email came into your mailbox its a good sign then! :)')\n",
        "# response241"
      ],
      "metadata": {
        "id": "hNLoIu30pgMf"
      },
      "execution_count": 64,
      "outputs": []
    }
  ]
}